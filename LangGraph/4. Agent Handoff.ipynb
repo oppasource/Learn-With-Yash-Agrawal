{
 "cells": [
  {
   "cell_type": "code",
   "execution_count": 1,
   "id": "48d59a37-1bbc-4b61-9443-ea36cb4d767c",
   "metadata": {},
   "outputs": [],
   "source": [
    "import operator\n",
    "from typing_extensions import TypedDict, Literal\n",
    "from langgraph.graph import START, END, StateGraph\n",
    "from langgraph.types import Command\n",
    "\n",
    "\n",
    "class State(TypedDict):\n",
    "    product_description: str\n",
    "    leads: list\n",
    "    emails: list"
   ]
  },
  {
   "cell_type": "code",
   "execution_count": 2,
   "id": "3cce9bc0-970b-4da2-93b4-646a8b0fcd55",
   "metadata": {},
   "outputs": [],
   "source": [
    "def lead_generator(state: State) -> Command[Literal[\"lead_generator\", \"outreach_email_writer\"]]:\n",
    "    product_description = state[\"product_description\"]\n",
    "    previous_leads = state.get(\"leads\", [])\n",
    "    \n",
    "    print(\"Generating leads using product description/tools/previous leads\")\n",
    "    \n",
    "    # Dummy AI logic to generate leads using product description and previous leads - this should be replaced with actual logic\n",
    "    new_leads = [{\"lead_name\": \"name1\"}, {\"lead_name\": \"name2\"}]\n",
    "\n",
    "    # Combine new and previous leads generated\n",
    "    leads = previous_leads + new_leads\n",
    "    \n",
    "    if len(leads) < 5:\n",
    "        return Command(update={\"leads\": leads}, goto=\"lead_generator\")\n",
    "    else:\n",
    "        return Command(update={\"leads\": leads}, goto=\"outreach_email_writer\")\n",
    "\n",
    "\n",
    "def outreach_email_writer(state: dict):\n",
    "    product_description = state[\"product_description\"]\n",
    "    leads = state[\"leads\"]\n",
    "    print(\"Generating outreach emails using leads and product description\")\n",
    "\n",
    "    # Dummy AI logic to generate emails using leads and description - this should be replaced with actual logic\n",
    "    emails = []\n",
    "    for lead in leads:\n",
    "        email_content = f\"Email for {lead['lead_name']}, about {product_description} generated\"\n",
    "        emails.append({**lead, \"email\": email_content})\n",
    "    \n",
    "    return {\"emails\": emails}"
   ]
  },
  {
   "cell_type": "code",
   "execution_count": 3,
   "id": "c44a3cb4-867d-4642-88f6-c13d8d1d1efb",
   "metadata": {},
   "outputs": [],
   "source": [
    "graph_builder = StateGraph(State)\n",
    "\n",
    "graph_builder.add_node(lead_generator)\n",
    "graph_builder.add_node(outreach_email_writer)\n",
    "\n",
    "graph_builder.add_edge(START, \"lead_generator\")\n",
    "graph_builder.add_edge(\"outreach_email_writer\", END)\n",
    "\n",
    "\n",
    "graph = graph_builder.compile()"
   ]
  },
  {
   "cell_type": "code",
   "execution_count": 4,
   "id": "15295b44-2c95-4829-9abe-4f2a9761a8c7",
   "metadata": {},
   "outputs": [
    {
     "data": {
      "image/png": "[encoded data removed]",
      "text/plain": [
       "<langgraph.graph.state.CompiledStateGraph object at 0x1046c02d0>"
      ]
     },
     "execution_count": 4,
     "metadata": {},
     "output_type": "execute_result"
    }
   ],
   "source": [
    "graph"
   ]
  },
  {
   "cell_type": "code",
   "execution_count": 5,
   "id": "5cbf20f3-48d2-448b-8a83-75b519453fe1",
   "metadata": {},
   "outputs": [
    {
     "name": "stdout",
     "output_type": "stream",
     "text": [
      "Generating leads using product description/tools/previous leads\n",
      "Generating leads using product description/tools/previous leads\n",
      "Generating leads using product description/tools/previous leads\n",
      "Generating outreach emails using leads and product description\n"
     ]
    },
    {
     "data": {
      "text/plain": [
       "{'product_description': 'my awesome product',\n",
       " 'leads': [{'lead_name': 'name1'},\n",
       "  {'lead_name': 'name2'},\n",
       "  {'lead_name': 'name1'},\n",
       "  {'lead_name': 'name2'},\n",
       "  {'lead_name': 'name1'},\n",
       "  {'lead_name': 'name2'}],\n",
       " 'emails': [{'lead_name': 'name1',\n",
       "   'email': 'Email for name1, about my awesome product generated'},\n",
       "  {'lead_name': 'name2',\n",
       "   'email': 'Email for name2, about my awesome product generated'},\n",
       "  {'lead_name': 'name1',\n",
       "   'email': 'Email for name1, about my awesome product generated'},\n",
       "  {'lead_name': 'name2',\n",
       "   'email': 'Email for name2, about my awesome product generated'},\n",
       "  {'lead_name': 'name1',\n",
       "   'email': 'Email for name1, about my awesome product generated'},\n",
       "  {'lead_name': 'name2',\n",
       "   'email': 'Email for name2, about my awesome product generated'}]}"
      ]
     },
     "execution_count": 5,
     "metadata": {},
     "output_type": "execute_result"
    }
   ],
   "source": [
    "result = graph.invoke({\"product_description\": \"my awesome product\"})\n",
    "result"
   ]
  },
  {
   "cell_type": "code",
   "execution_count": null,
   "id": "3d266033-bdf1-4ca8-bfe7-b2e58ddb6359",
   "metadata": {},
   "outputs": [],
   "source": []
  }
 ],
 "metadata": {
  "kernelspec": {
   "display_name": "Python 3 (ipykernel)",
   "language": "python",
   "name": "python3"
  },
  "language_info": {
   "codemirror_mode": {
    "name": "ipython",
    "version": 3
   },
   "file_extension": ".py",
   "mimetype": "text/x-python",
   "name": "python",
   "nbconvert_exporter": "python",
   "pygments_lexer": "ipython3",
   "version": "3.11.9"
  }
 },
 "nbformat": 4,
 "nbformat_minor": 5
}
