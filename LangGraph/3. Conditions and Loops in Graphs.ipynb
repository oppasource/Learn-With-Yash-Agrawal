{
 "cells": [
  {
   "cell_type": "code",
   "execution_count": 1,
   "id": "1c9b2b6b-cc73-4345-adf2-e4d0e4a17ca1",
   "metadata": {},
   "outputs": [],
   "source": [
    "import operator\n",
    "from typing import Annotated\n",
    "from typing_extensions import TypedDict\n",
    "\n",
    "\n",
    "class State(TypedDict):\n",
    "    property_url: str\n",
    "    is_rent: bool\n",
    "    is_sell: bool\n",
    "    blog: str"
   ]
  },
  {
   "cell_type": "code",
   "execution_count": 2,
   "id": "dfb65451-0662-42d6-9236-3e3a64880771",
   "metadata": {},
   "outputs": [],
   "source": [
    "def sell_or_rent_property(state: State):\n",
    "    property_url = state[\"property_url\"]\n",
    "    # complex logic\n",
    "    if \"sell\" in property_url:\n",
    "        is_sell = True\n",
    "        is_rent = False\n",
    "    else:\n",
    "        is_sell = False\n",
    "        is_rent = True\n",
    "    return {\"is_sell\": is_sell, \"is_rent\": is_rent}\n",
    "\n",
    "def sell_blog_generator(state: State):\n",
    "    property_url = state[\"property_url\"]\n",
    "    blog = f\"Generated sell blog based on {property_url}\"\n",
    "    return {\"blog\": blog}\n",
    "\n",
    "def rent_blog_generator(state: State):\n",
    "    property_url = state[\"property_url\"]\n",
    "    blog = f\"Generated rent blog based on {property_url}\"\n",
    "    return {\"blog\": blog}"
   ]
  },
  {
   "cell_type": "code",
   "execution_count": 3,
   "id": "954b62bb-5558-4494-a117-0c81a9a9ef8c",
   "metadata": {},
   "outputs": [],
   "source": [
    "def router(state: State):\n",
    "    if state[\"is_rent\"]:\n",
    "        return \"rent\"\n",
    "    else:\n",
    "        return \"sell\""
   ]
  },
  {
   "cell_type": "code",
   "execution_count": 4,
   "id": "a394c66d-c052-4853-9b66-aa98dea50f97",
   "metadata": {},
   "outputs": [],
   "source": [
    "from langgraph.graph import START, END, StateGraph\n",
    "\n",
    "graph_builder = StateGraph(State)\n",
    "\n",
    "graph_builder.add_node(sell_or_rent_property)\n",
    "graph_builder.add_node(sell_blog_generator)\n",
    "graph_builder.add_node(rent_blog_generator)\n",
    "\n",
    "graph_builder.add_edge(START, \"sell_or_rent_property\")\n",
    "\n",
    "graph_builder.add_conditional_edges(\n",
    "    \"sell_or_rent_property\",\n",
    "    router,\n",
    "    {\"rent\": \"rent_blog_generator\", \"sell\": \"sell_blog_generator\"}\n",
    ")\n",
    "\n",
    "graph_builder.add_edge(\"rent_blog_generator\", END)\n",
    "graph_builder.add_edge(\"sell_blog_generator\", END)\n",
    "\n",
    "\n",
    "graph = graph_builder.compile()"
   ]
  },
  {
   "cell_type": "code",
   "execution_count": 5,
   "id": "3c06c07c-8e87-4180-8e98-9c39a3b8e602",
   "metadata": {},
   "outputs": [
    {
     "data": {
      "image/png": "[encoded data removed]",
      "text/plain": [
       "<langgraph.graph.state.CompiledStateGraph object at 0x10651d590>"
      ]
     },
     "execution_count": 5,
     "metadata": {},
     "output_type": "execute_result"
    }
   ],
   "source": [
    "graph"
   ]
  },
  {
   "cell_type": "code",
   "execution_count": 7,
   "id": "e4825963-6ac5-41ed-b570-bcd85b2bdc2e",
   "metadata": {},
   "outputs": [
    {
     "data": {
      "text/plain": [
       "{'property_url': 'sellyouplace.com',\n",
       " 'is_rent': False,\n",
       " 'is_sell': True,\n",
       " 'blog': 'Generated sell blog based on sellyouplace.com'}"
      ]
     },
     "execution_count": 7,
     "metadata": {},
     "output_type": "execute_result"
    }
   ],
   "source": [
    "result = graph.invoke({\"property_url\": \"sellyouplace.com\"})\n",
    "result"
   ]
  },
  {
   "cell_type": "code",
   "execution_count": null,
   "id": "e67a84c2-8723-48f9-bbff-8ff28df3e244",
   "metadata": {},
   "outputs": [],
   "source": []
  },
  {
   "cell_type": "code",
   "execution_count": 8,
   "id": "235d41f3-0efe-4ad1-8aa9-bc58e0185eed",
   "metadata": {},
   "outputs": [],
   "source": [
    "class State(TypedDict):\n",
    "    property_url: str\n",
    "    is_rent: bool\n",
    "    is_sell: bool\n",
    "    blog: str\n",
    "    evaluator_comments: str"
   ]
  },
  {
   "cell_type": "code",
   "execution_count": 15,
   "id": "5e882137-5e24-440e-85f9-56859470dc59",
   "metadata": {},
   "outputs": [],
   "source": [
    "import random\n",
    "\n",
    "\n",
    "def sell_or_rent_property(state: State):\n",
    "    property_url = state[\"property_url\"]\n",
    "    if \"sell\" in property_url:\n",
    "        is_sell = True\n",
    "        is_rent = False\n",
    "    else:\n",
    "        is_sell = False\n",
    "        is_rent = True\n",
    "    return {\"is_sell\": is_sell, \"is_rent\": is_rent}\n",
    "\n",
    "def sell_blog_generator(state: State):\n",
    "    property_url = state[\"property_url\"]\n",
    "    evaluator_comments = state.get(\"evaluator_comments\", \"\")\n",
    "    if evaluator_comments:\n",
    "        print(\"re-writing sell blog based on comments\")\n",
    "        blog = f\"Re-Generated sell blog based on {property_url} and {evaluator_comments}\"\n",
    "    else:\n",
    "        print(\"writing sell blog based on comments\")\n",
    "        blog = f\"Generated sell blog based on {property_url}\"\n",
    "    return {\"blog\": blog}\n",
    "\n",
    "def rent_blog_generator(state: State):\n",
    "    property_url = state[\"property_url\"]\n",
    "    evaluator_comments = state.get(\"evaluator_comments\", \"\")\n",
    "    if evaluator_comments:\n",
    "        print(\"re-writing rent blog based on comments\")\n",
    "        blog = f\"Re-Generated rent blog based on {property_url} and {evaluator_comments}\"\n",
    "    else:\n",
    "        print(\"writing rent blog based on comments\")\n",
    "        blog = f\"Generated rent blog based on {property_url}\"\n",
    "    return {\"blog\": blog}\n",
    "\n",
    "def blog_evaluator(state: State):\n",
    "    blog = state[\"blog\"]\n",
    "    \n",
    "    # complex logic\n",
    "    \n",
    "    evaluator_comments = \"Why is it so messy, fix everything.\" if random.randint(0, 1) else \"\"\n",
    "    print(f\"Evaluator results: {evaluator_comments}\")\n",
    "    return {\"evaluator_comments\": evaluator_comments}\n",
    "    "
   ]
  },
  {
   "cell_type": "code",
   "execution_count": 16,
   "id": "8947d448-e109-4d26-bf13-e41b616d09a2",
   "metadata": {},
   "outputs": [],
   "source": [
    "def router(state: State):\n",
    "    if state[\"is_rent\"]:\n",
    "        return \"rent\"\n",
    "    else:\n",
    "        return \"sell\"\n",
    "\n",
    "def evaluator_router(state: State):\n",
    "    if state[\"evaluator_comments\"]:\n",
    "        if state[\"is_rent\"]:\n",
    "            return \"rent\"\n",
    "        else:\n",
    "            return \"sell\"\n",
    "    else:\n",
    "        return \"end\""
   ]
  },
  {
   "cell_type": "code",
   "execution_count": 17,
   "id": "086537bf-ee09-4c90-9d0b-9f46d11aca49",
   "metadata": {},
   "outputs": [],
   "source": [
    "from langgraph.graph import START, END, StateGraph\n",
    "\n",
    "graph_builder = StateGraph(State)\n",
    "\n",
    "graph_builder.add_node(sell_or_rent_property)\n",
    "graph_builder.add_node(sell_blog_generator)\n",
    "graph_builder.add_node(rent_blog_generator)\n",
    "graph_builder.add_node(blog_evaluator)\n",
    "\n",
    "graph_builder.add_edge(START, \"sell_or_rent_property\")\n",
    "\n",
    "graph_builder.add_conditional_edges(\n",
    "    \"sell_or_rent_property\",\n",
    "    router,\n",
    "    {\"rent\": \"rent_blog_generator\", \"sell\": \"sell_blog_generator\"}\n",
    ")\n",
    "\n",
    "graph_builder.add_edge(\"rent_blog_generator\", \"blog_evaluator\")\n",
    "graph_builder.add_edge(\"sell_blog_generator\", \"blog_evaluator\")\n",
    "\n",
    "graph_builder.add_conditional_edges(\n",
    "    \"blog_evaluator\",\n",
    "    evaluator_router,\n",
    "    {\"rent\": \"rent_blog_generator\", \"sell\": \"sell_blog_generator\", \"end\": END}\n",
    ")\n",
    "\n",
    "graph = graph_builder.compile()"
   ]
  },
  {
   "cell_type": "code",
   "execution_count": 18,
   "id": "e9ce0383-095d-411d-8516-7f9f26427e45",
   "metadata": {},
   "outputs": [
    {
     "data": {
      "image/png": "[encoded data removed]",
      "text/plain": [
       "<langgraph.graph.state.CompiledStateGraph object at 0x1065a09d0>"
      ]
     },
     "execution_count": 18,
     "metadata": {},
     "output_type": "execute_result"
    }
   ],
   "source": [
    "graph"
   ]
  },
  {
   "cell_type": "code",
   "execution_count": 20,
   "id": "0f14fc51-cd4f-4485-b05e-786cfbe96c5c",
   "metadata": {},
   "outputs": [
    {
     "name": "stdout",
     "output_type": "stream",
     "text": [
      "writing rent blog based on comments\n",
      "Evaluator results: Why is it so messy, fix everything.\n",
      "re-writing rent blog based on comments\n",
      "Evaluator results: \n"
     ]
    },
    {
     "data": {
      "text/plain": [
       "{'property_url': 'rentyouplace.com',\n",
       " 'is_rent': True,\n",
       " 'is_sell': False,\n",
       " 'blog': 'Re-Generated rent blog based on rentyouplace.com and Why is it so messy, fix everything.',\n",
       " 'evaluator_comments': ''}"
      ]
     },
     "execution_count": 20,
     "metadata": {},
     "output_type": "execute_result"
    }
   ],
   "source": [
    "result = graph.invoke({\"property_url\": \"rentyouplace.com\"})\n",
    "result"
   ]
  },
  {
   "cell_type": "code",
   "execution_count": null,
   "id": "102056eb-ff2d-482c-8b9d-939bd189864c",
   "metadata": {},
   "outputs": [],
   "source": []
  }
 ],
 "metadata": {
  "kernelspec": {
   "display_name": "Python 3 (ipykernel)",
   "language": "python",
   "name": "python3"
  },
  "language_info": {
   "codemirror_mode": {
    "name": "ipython",
    "version": 3
   },
   "file_extension": ".py",
   "mimetype": "text/x-python",
   "name": "python",
   "nbconvert_exporter": "python",
   "pygments_lexer": "ipython3",
   "version": "3.11.9"
  }
 },
 "nbformat": 4,
 "nbformat_minor": 5
}
