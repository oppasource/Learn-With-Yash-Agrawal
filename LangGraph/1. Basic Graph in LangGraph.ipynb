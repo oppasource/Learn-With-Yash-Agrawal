{
 "cells": [
  {
   "cell_type": "markdown",
   "id": "a8397872-e3e1-42ce-b4be-1c1df4b98e1c",
   "metadata": {},
   "source": [
    "# Building a basic graph in LangGraph\n",
    "\n",
    "First define the schema of the state."
   ]
  },
  {
   "cell_type": "code",
   "execution_count": 1,
   "id": "0c2397fe-d972-49d4-977b-5e3d3b06afad",
   "metadata": {},
   "outputs": [],
   "source": [
    "from typing_extensions import TypedDict\n",
    "\n",
    "class State(TypedDict):\n",
    "    a_message: str\n",
    "    b_message: str\n",
    "    messages: list[str]"
   ]
  },
  {
   "cell_type": "markdown",
   "id": "2fb04645-45de-4852-ac6a-96b79d63b213",
   "metadata": {},
   "source": [
    "Define the nodes - this will be the functionality or agents that will modify the state in the order of the workflow/graph."
   ]
  },
  {
   "cell_type": "code",
   "execution_count": 27,
   "id": "67969db7-c409-4fb2-834e-bb66dd96e4ba",
   "metadata": {},
   "outputs": [],
   "source": [
    "def node_a(state: State):\n",
    "    messages = state[\"messages\"]\n",
    "    a_message = \"Message from node a\"\n",
    "    return {\"messages\": messages + [a_message], \"a_message\": a_message}"
   ]
  },
  {
   "cell_type": "code",
   "execution_count": 28,
   "id": "0355598c-be45-451d-9a19-b5c60fe4342d",
   "metadata": {},
   "outputs": [],
   "source": [
    "def node_b(state: State):\n",
    "    messages = state[\"messages\"]\n",
    "    a_message = state[\"a_message\"]\n",
    "    \n",
    "    # some logic\n",
    "    \n",
    "    b_message = \"Message from node b\"\n",
    "    return {\"messages\": messages + [b_message], \"b_message\": b_message, \"a_message\": a_message + \", now its by b as well\"}"
   ]
  },
  {
   "cell_type": "markdown",
   "id": "312ea2ee-43db-4e6b-8764-2a516b2b65c9",
   "metadata": {},
   "source": [
    "Compile the graph."
   ]
  },
  {
   "cell_type": "code",
   "execution_count": 29,
   "id": "8c81ebd8-dd3e-40d1-99f4-8449fbf43fa0",
   "metadata": {},
   "outputs": [],
   "source": [
    "from langgraph.graph import START, StateGraph\n",
    "\n",
    "graph_builder = StateGraph(State)\n",
    "\n",
    "graph_builder.add_node(node_a)\n",
    "graph_builder.add_node(node_b)\n",
    "\n",
    "graph_builder.add_edge(START, \"node_a\")\n",
    "graph_builder.add_edge(\"node_a\", \"node_b\")\n",
    "\n",
    "graph = graph_builder.compile()"
   ]
  },
  {
   "cell_type": "markdown",
   "id": "3412b4f3-3d97-4909-bead-f5f0d1753756",
   "metadata": {},
   "source": [
    "Visualize the graph/workflow."
   ]
  },
  {
   "cell_type": "code",
   "execution_count": 30,
   "id": "f6f50231-9c0f-482f-ac2b-5371ece2d3e3",
   "metadata": {},
   "outputs": [
    {
     "data": {
      "image/png": "[encoded data removed]",
      "text/plain": [
       "<langgraph.graph.state.CompiledStateGraph object at 0x11af31410>"
      ]
     },
     "execution_count": 30,
     "metadata": {},
     "output_type": "execute_result"
    }
   ],
   "source": [
    "# from IPython.display import Image, display\n",
    "\n",
    "# display(Image(graph.get_graph().draw_mermaid_png()))\n",
    "\n",
    "graph"
   ]
  },
  {
   "cell_type": "markdown",
   "id": "f1be3c51-d745-4bfd-a61d-403f4f21bf78",
   "metadata": {},
   "source": [
    "Run the graph and get the final updated state."
   ]
  },
  {
   "cell_type": "code",
   "execution_count": 31,
   "id": "c8a7c955-7940-4333-90b8-545ba44d3e45",
   "metadata": {},
   "outputs": [],
   "source": [
    "result = graph.invoke({\"messages\": [\"start message\"]})"
   ]
  },
  {
   "cell_type": "code",
   "execution_count": 32,
   "id": "a84c02c6-526f-434e-a90b-9a98a5a41c4d",
   "metadata": {},
   "outputs": [
    {
     "data": {
      "text/plain": [
       "{'a_message': 'Message from node a, now its by b as well',\n",
       " 'b_message': 'Message from node b',\n",
       " 'messages': ['start message', 'Message from node a', 'Message from node b']}"
      ]
     },
     "execution_count": 32,
     "metadata": {},
     "output_type": "execute_result"
    }
   ],
   "source": [
    "result"
   ]
  },
  {
   "cell_type": "code",
   "execution_count": null,
   "id": "ecdbc28a-80c2-4c52-bf41-3c3cc50dbd5b",
   "metadata": {},
   "outputs": [],
   "source": []
  }
 ],
 "metadata": {
  "kernelspec": {
   "display_name": "Python 3 (ipykernel)",
   "language": "python",
   "name": "python3"
  },
  "language_info": {
   "codemirror_mode": {
    "name": "ipython",
    "version": 3
   },
   "file_extension": ".py",
   "mimetype": "text/x-python",
   "name": "python",
   "nbconvert_exporter": "python",
   "pygments_lexer": "ipython3",
   "version": "3.11.9"
  }
 },
 "nbformat": 4,
 "nbformat_minor": 5
}
