{
 "cells": [
  {
   "cell_type": "code",
   "execution_count": 1,
   "id": "a7884c57-8368-4810-9eb3-f2dcd5885d6d",
   "metadata": {},
   "outputs": [],
   "source": [
    "import json\n",
    "from openai import OpenAI\n",
    "from dotenv import load_dotenv"
   ]
  },
  {
   "cell_type": "code",
   "execution_count": 2,
   "id": "a96821fe-ea6f-4cf2-9a5b-6e9d94db0bf4",
   "metadata": {},
   "outputs": [],
   "source": [
    "load_dotenv()\n",
    "\n",
    "client = OpenAI()"
   ]
  },
  {
   "cell_type": "markdown",
   "id": "2aa0c45a-a55c-4a40-9c1a-56aa1f8032f7",
   "metadata": {},
   "source": [
    "# Single review compression"
   ]
  },
  {
   "cell_type": "code",
   "execution_count": 3,
   "id": "611b1b2f-fc81-49db-b05c-7f6d0990e135",
   "metadata": {},
   "outputs": [],
   "source": [
    "# Single review\n",
    "\n",
    "prompt = \"\"\"\n",
    "Give sentiment and themes for the given input review.\n",
    "\n",
    "Give output as json with \"sentiment\" key and value should be either of [POSITIVE, NEUTRAL, NEGATIVE]. \n",
    "And another key \"themes\" with list of themes talked about in the review, for example \"Producut Issue\", \"Packaging Issue\", etc.\n",
    "\n",
    "Strictly only give json output as string and nothing else. Do not give markdown.\n",
    "\n",
    "Input Review:\n",
    "```\n",
    "{input_review}\n",
    "```\n",
    "\"\"\""
   ]
  },
  {
   "cell_type": "code",
   "execution_count": 4,
   "id": "9c87db91-0bb1-4af7-ac06-68c1edf3f0a5",
   "metadata": {},
   "outputs": [
    {
     "name": "stdout",
     "output_type": "stream",
     "text": [
      "\n",
      "Give sentiment and themes for the given input review.\n",
      "\n",
      "Give output as json with \"sentiment\" key and value should be either of [POSITIVE, NEUTRAL, NEGATIVE]. \n",
      "And another key \"themes\" with list of themes talked about in the review, for example \"Producut Issue\", \"Packaging Issue\", etc.\n",
      "\n",
      "Strictly only give json output as string and nothing else. Do not give markdown.\n",
      "\n",
      "Input Review:\n",
      "```\n",
      "This bedsheet is beautiful and looks just like in the picture. The print is very pretty. It is really comfortable and smooth. Fabric is very nice , color doesn’t fade even after the wash. It fits our queen size bed perfectly ( it can be easy used for King size bed) . Go for it, value for money.\n",
      "```\n",
      "\n"
     ]
    }
   ],
   "source": [
    "input_review = \"This bedsheet is beautiful and looks just like in the picture. The print is very pretty. It is really comfortable and smooth. Fabric is very nice , color doesn’t fade even after the wash. It fits our queen size bed perfectly ( it can be easy used for King size bed) . Go for it, value for money.\"\n",
    "\n",
    "formatted_prompt = prompt.format(input_review=input_review)\n",
    "print(formatted_prompt)"
   ]
  },
  {
   "cell_type": "code",
   "execution_count": 5,
   "id": "0631fe99-3367-41eb-8dbc-91373ae2be86",
   "metadata": {},
   "outputs": [],
   "source": [
    "completion = client.chat.completions.create(\n",
    "    model=\"gpt-4o-mini\",\n",
    "    messages=[\n",
    "        {\"role\": \"system\", \"content\": formatted_prompt},\n",
    "    ],\n",
    ")\n",
    "\n",
    "compressed_review = completion.choices[0].message.content"
   ]
  },
  {
   "cell_type": "code",
   "execution_count": 6,
   "id": "e89afcc3-d6f8-4155-a2e1-560d3affd754",
   "metadata": {},
   "outputs": [
    {
     "name": "stdout",
     "output_type": "stream",
     "text": [
      "{\n",
      "  \"sentiment\": \"POSITIVE\",\n",
      "  \"themes\": [\"Product Quality\", \"Comfort\", \"Value for Money\", \"Design\"]\n",
      "}\n"
     ]
    }
   ],
   "source": [
    "print(compressed_review)"
   ]
  },
  {
   "cell_type": "code",
   "execution_count": 7,
   "id": "89b9c698-464d-4839-b685-48d30430138d",
   "metadata": {},
   "outputs": [],
   "source": [
    "d = json.loads(compressed_review)"
   ]
  },
  {
   "cell_type": "code",
   "execution_count": 8,
   "id": "ba4ef6cb-7845-42e0-9307-07a8b2a6c08e",
   "metadata": {},
   "outputs": [
    {
     "data": {
      "text/plain": [
       "'POSITIVE'"
      ]
     },
     "execution_count": 8,
     "metadata": {},
     "output_type": "execute_result"
    }
   ],
   "source": [
    "d[\"sentiment\"]"
   ]
  },
  {
   "cell_type": "markdown",
   "id": "e201e1fa-4a67-4fc4-b6bd-4fe8023bb816",
   "metadata": {},
   "source": [
    "# Multiple review compression"
   ]
  },
  {
   "cell_type": "code",
   "execution_count": 9,
   "id": "34db688b-28c0-4ed6-8cc9-d9c0af7c3403",
   "metadata": {},
   "outputs": [],
   "source": [
    "review_analysis_prompt = \"\"\"\n",
    "Give sentiment and themes for the given input review.\n",
    "\n",
    "Give output as json with \"sentiment\" key and value should be either of [POSITIVE, NEUTRAL, NEGATIVE]. \n",
    "And another key \"themes\" with list of themes talked about in the review, for example \"Producut Issue\", \"Packaging Issue\", etc.\n",
    "\n",
    "Strictly only give json output as string and nothing else. Do not give markdown.\n",
    "\n",
    "Input Review:\n",
    "```\n",
    "{input_review}\n",
    "```\n",
    "\"\"\"\n",
    "\n",
    "\n",
    "def get_review_analysis(reviews):\n",
    "    review_analysis_results = []\n",
    "    for review in reviews:\n",
    "        prompt = review_analysis_prompt.format(input_review=review)\n",
    "        completion = client.chat.completions.create(\n",
    "            model=\"gpt-4o-mini\",\n",
    "            messages=[\n",
    "                {\"role\": \"system\", \"content\": prompt},\n",
    "            ],\n",
    "        )\n",
    "\n",
    "        review_analysis = completion.choices[0].message.content\n",
    "        print(review_analysis)\n",
    "        parsed_review_analysis = json.loads(review_analysis)\n",
    "        review_analysis_results.append(parsed_review_analysis)\n",
    "    return review_analysis_results"
   ]
  },
  {
   "cell_type": "code",
   "execution_count": 10,
   "id": "a6889e4c-756b-4e73-9982-a477b7a933c7",
   "metadata": {},
   "outputs": [],
   "source": [
    "reviews = [\"This bedsheet is beautiful and looks just like in the picture. The print is very pretty. It is really comfortable and smooth. Fabric is very nice , color doesn’t fade even after the wash. It fits our queen size bed perfectly ( it can be easy used for King size bed) . Go for it, value for money.\",\n",
    "           \"Quality is good. But it is not a king size one. I'd say it is queen size.\",\n",
    "           \"Superb bedsheet.. soft material.. I like it . Go for it .. colour fast febric nd it looked so beautiful 😻 finally got what I need . Will order more from this brand.. happy shopping 😀🛍️\",\n",
    "           \"In the first wash, the bedsheet faded and shrunk a lot. Don't buy this product.\",\n",
    "           \"Product is ok for discounted price. Colour is not that bright as shown in pic...some slight defects on bedsheet....ok ok product\"\n",
    "          ]"
   ]
  },
  {
   "cell_type": "code",
   "execution_count": 11,
   "id": "eefb75e6-ac4c-4281-ae2d-19f23e5fbcd6",
   "metadata": {},
   "outputs": [
    {
     "name": "stdout",
     "output_type": "stream",
     "text": [
      "{\"sentiment\":\"POSITIVE\",\"themes\":[\"Product Quality\",\"Comfort\",\"Value for Money\",\"Design\",\"Fit\"]}\n",
      "{\"sentiment\":\"NEUTRAL\",\"themes\":[\"Quality\",\"Size Issue\"]}\n",
      "{\"sentiment\":\"POSITIVE\",\"themes\":[\"Product Quality\",\"Material\",\"Aesthetic Appeal\",\"Brand Loyalty\"]}\n",
      "{\"sentiment\":\"NEGATIVE\",\"themes\":[\"Product Issue\",\"Quality Issue\"]}\n",
      "{\"sentiment\":\"NEUTRAL\",\"themes\":[\"Product Quality\",\"Discounted Price\",\"Color Accuracy\",\"Defects\"]}\n"
     ]
    }
   ],
   "source": [
    "compressed_review_result = get_review_analysis(reviews)"
   ]
  },
  {
   "cell_type": "code",
   "execution_count": 12,
   "id": "5555c379-7a6b-4fdb-b1c7-144a2148091b",
   "metadata": {},
   "outputs": [
    {
     "data": {
      "text/plain": [
       "[{'sentiment': 'POSITIVE',\n",
       "  'themes': ['Product Quality',\n",
       "   'Comfort',\n",
       "   'Value for Money',\n",
       "   'Design',\n",
       "   'Fit']},\n",
       " {'sentiment': 'NEUTRAL', 'themes': ['Quality', 'Size Issue']},\n",
       " {'sentiment': 'POSITIVE',\n",
       "  'themes': ['Product Quality',\n",
       "   'Material',\n",
       "   'Aesthetic Appeal',\n",
       "   'Brand Loyalty']},\n",
       " {'sentiment': 'NEGATIVE', 'themes': ['Product Issue', 'Quality Issue']},\n",
       " {'sentiment': 'NEUTRAL',\n",
       "  'themes': ['Product Quality',\n",
       "   'Discounted Price',\n",
       "   'Color Accuracy',\n",
       "   'Defects']}]"
      ]
     },
     "execution_count": 12,
     "metadata": {},
     "output_type": "execute_result"
    }
   ],
   "source": [
    "compressed_review_result"
   ]
  },
  {
   "cell_type": "markdown",
   "id": "bbe637eb-de26-4163-ac71-489bea0d7098",
   "metadata": {},
   "source": [
    "# Actionable insights from compressed reviews"
   ]
  },
  {
   "cell_type": "code",
   "execution_count": 13,
   "id": "e333c663-2b2f-4a91-b4f6-1ca555e4865d",
   "metadata": {},
   "outputs": [],
   "source": [
    "actionable_insights_prompt = \"\"\"I have sentiments around some themes extracted from reviews.\n",
    "I want you to give me actionable insights in bullet points.\n",
    "Keep it exceptionally very shrot and crisp.\n",
    "\n",
    "Input:\n",
    "```\n",
    "{review_analysis}\n",
    "```\"\"\""
   ]
  },
  {
   "cell_type": "code",
   "execution_count": 14,
   "id": "aa36f8f1-da5d-4fc2-ba4b-d31ff4906f98",
   "metadata": {},
   "outputs": [
    {
     "name": "stdout",
     "output_type": "stream",
     "text": [
      "I have sentiments around some themes extracted from reviews.\n",
      "I want you to give me actionable insights in bullet points.\n",
      "Keep it exceptionally very shrot and crisp.\n",
      "\n",
      "Input:\n",
      "```\n",
      "[{'sentiment': 'POSITIVE', 'themes': ['Product Quality', 'Comfort', 'Value for Money', 'Design', 'Fit']}, {'sentiment': 'NEUTRAL', 'themes': ['Quality', 'Size Issue']}, {'sentiment': 'POSITIVE', 'themes': ['Product Quality', 'Material', 'Aesthetic Appeal', 'Brand Loyalty']}, {'sentiment': 'NEGATIVE', 'themes': ['Product Issue', 'Quality Issue']}, {'sentiment': 'NEUTRAL', 'themes': ['Product Quality', 'Discounted Price', 'Color Accuracy', 'Defects']}]\n",
      "```\n"
     ]
    }
   ],
   "source": [
    "prompt = actionable_insights_prompt.format(review_analysis=str(compressed_review_result))\n",
    "print(prompt)"
   ]
  },
  {
   "cell_type": "code",
   "execution_count": 15,
   "id": "f7ab2ada-4e7e-4543-9f67-f1bb6f8aaf25",
   "metadata": {},
   "outputs": [
    {
     "name": "stdout",
     "output_type": "stream",
     "text": [
      "- **Strengthen Positive Aspects**: Continue to highlight product quality, comfort, and design in marketing efforts.\n",
      "- **Address Size Issues**: Identify and correct any size discrepancies to reduce neutral sentiments.\n",
      "- **Focus on Material Quality**: Ensure high standards for materials to maintain both aesthetic appeal and brand loyalty.\n",
      "- **Resolve Product Issues**: Investigate reported product and quality issues to prevent negative experiences and enhance customer satisfaction.\n",
      "- **Monitor Defects**: Keep an eye on defect rates and color accuracy to improve overall quality perception.\n"
     ]
    }
   ],
   "source": [
    "completion = client.chat.completions.create(\n",
    "            model=\"gpt-4o-mini\",\n",
    "            messages=[\n",
    "                {\"role\": \"system\", \"content\": prompt},\n",
    "            ],\n",
    "        )\n",
    "\n",
    "actionable_insights = completion.choices[0].message.content\n",
    "print(actionable_insights)"
   ]
  },
  {
   "cell_type": "code",
   "execution_count": null,
   "id": "254c5ec0-ef45-4950-81de-672fccca0060",
   "metadata": {},
   "outputs": [],
   "source": []
  }
 ],
 "metadata": {
  "kernelspec": {
   "display_name": "Python 3 (ipykernel)",
   "language": "python",
   "name": "python3"
  },
  "language_info": {
   "codemirror_mode": {
    "name": "ipython",
    "version": 3
   },
   "file_extension": ".py",
   "mimetype": "text/x-python",
   "name": "python",
   "nbconvert_exporter": "python",
   "pygments_lexer": "ipython3",
   "version": "3.11.9"
  }
 },
 "nbformat": 4,
 "nbformat_minor": 5
}
