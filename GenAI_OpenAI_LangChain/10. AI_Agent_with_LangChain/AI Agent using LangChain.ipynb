{
 "cells": [
  {
   "cell_type": "markdown",
   "id": "9f7283a0-81e7-47e7-9645-bc71d4a0e534",
   "metadata": {},
   "source": [
    "# AI Agent using LangChain"
   ]
  },
  {
   "cell_type": "code",
   "execution_count": 1,
   "id": "f707cb20-63f0-4edd-b2c9-dea95ad786bf",
   "metadata": {},
   "outputs": [
    {
     "data": {
      "text/plain": [
       "True"
      ]
     },
     "execution_count": 1,
     "metadata": {},
     "output_type": "execute_result"
    }
   ],
   "source": [
    "import requests\n",
    "from dotenv import load_dotenv\n",
    "from pydantic import BaseModel, Field\n",
    "from enum import Enum\n",
    "\n",
    "load_dotenv()"
   ]
  },
  {
   "cell_type": "code",
   "execution_count": 2,
   "id": "1482b07c-8dc6-4666-8a10-0e31a50fbb79",
   "metadata": {},
   "outputs": [],
   "source": [
    "from langchain.tools import tool"
   ]
  },
  {
   "cell_type": "markdown",
   "id": "a06387cd-0c67-43f5-8141-3345f375680c",
   "metadata": {},
   "source": [
    "# Defining Tools"
   ]
  },
  {
   "cell_type": "code",
   "execution_count": 13,
   "id": "e72211b3-636d-4503-9e6d-e46e033862c5",
   "metadata": {},
   "outputs": [],
   "source": [
    "\n",
    "class SearchProductInput(BaseModel):\n",
    "    product_query: str = Field(..., description=\"The query string for the product search\")\n",
    "\n",
    "\n",
    "@tool(args_schema=SearchProductInput)\n",
    "def search_product(product_query):\n",
    "    \"\"\"Search for products on Amazon based on a query.\"\"\"\n",
    "    \n",
    "    url = \"https://real-time-amazon-data.p.rapidapi.com/search\"\n",
    "\n",
    "    querystring = {\"query\":product_query,\n",
    "                   \"page\":\"1\",\n",
    "                   \"country\":\"US\",\n",
    "                   \"sort_by\":\"RELEVANCE\",\n",
    "                   \"product_condition\":\"ALL\",\n",
    "                   \"is_prime\":\"false\",\n",
    "                   \"deals_and_discounts\":\"NONE\"}\n",
    "    \n",
    "    headers = {\n",
    "    \t\"x-rapidapi-key\": \"<your rapidapi api key>\",\n",
    "    \t\"x-rapidapi-host\": \"real-time-amazon-data.p.rapidapi.com\"\n",
    "    }\n",
    "    \n",
    "    response = requests.get(url, headers=headers, params=querystring)\n",
    "    \n",
    "    return response.json()[\"data\"][\"products\"][:3]\n",
    "\n",
    "\n",
    "class AddToCartInput(BaseModel):\n",
    "    product_id: str = Field(..., description=\"Unique identifier for the product to be added to the cart.\")\n",
    "    quantity: int = Field(..., description=\"The quantity of the product to add to the cart.\")\n",
    "    \n",
    "cart = []\n",
    "@tool(args_schema=AddToCartInput)\n",
    "def add_to_cart(product_id, quantity):\n",
    "    \"\"\"Adds a product to the shopping cart with the specified quantity.\"\"\"\n",
    "    global cart\n",
    "    cart.append({\"product_id\": product_id, \"quantity\": quantity})\n",
    "    return True\n",
    "\n",
    "\n",
    "@tool\n",
    "def summarize_cart():\n",
    "    \"\"\"Returns the current contents of the cart\"\"\"\n",
    "    global cart\n",
    "    return cart\n",
    "\n",
    "\n",
    "class PaymentMethod(str, Enum):\n",
    "    COD = \"COD\"\n",
    "    CreditCard = \"CreditCard\"\n",
    "    DebitCard = \"DebitCard\"\n",
    "    UPI = \"UPI\"\n",
    "    NetBanking = \"NetBanking\"\n",
    "\n",
    "class BuyProductInput(BaseModel):\n",
    "    payment_method: PaymentMethod = Field(..., description=\"The method of payment to be used for the purchase.\")\n",
    "\n",
    "@tool(args_schema=BuyProductInput)\n",
    "def buy_product(payment_method):\n",
    "    \"\"\"Processes the purchase of a product using the specified payment method.\"\"\"\n",
    "    if payment_method == \"COD\":\n",
    "        response = \"Order confirmation sent to registered email\"\n",
    "    else:\n",
    "        response = generate_payment_link(cart)\n",
    "    return response\n",
    "\n",
    "# Util function - not a tool to be provided to our agent\n",
    "def generate_payment_link(cart):\n",
    "    # TODO: actually implement this function\n",
    "    return \"sample.link.com\""
   ]
  },
  {
   "cell_type": "code",
   "execution_count": 9,
   "id": "7f465d78-77f2-4bbe-b693-f2ecf38ec8d4",
   "metadata": {},
   "outputs": [
    {
     "data": {
      "text/plain": [
       "'search_product'"
      ]
     },
     "execution_count": 9,
     "metadata": {},
     "output_type": "execute_result"
    }
   ],
   "source": [
    "search_product.name"
   ]
  },
  {
   "cell_type": "code",
   "execution_count": 10,
   "id": "e9690354-93b5-4b63-bb60-ddc86451d430",
   "metadata": {},
   "outputs": [
    {
     "data": {
      "text/plain": [
       "'Search for products on Amazon based on a query.'"
      ]
     },
     "execution_count": 10,
     "metadata": {},
     "output_type": "execute_result"
    }
   ],
   "source": [
    "search_product.description"
   ]
  },
  {
   "cell_type": "code",
   "execution_count": 11,
   "id": "3fd8ea8f-2a59-4181-b56e-57b85e8aa96f",
   "metadata": {},
   "outputs": [],
   "source": [
    "from langchain_core.utils.function_calling import convert_to_openai_function"
   ]
  },
  {
   "cell_type": "code",
   "execution_count": 12,
   "id": "b3d7be68-7056-46a9-8d81-59c1cc7ba74e",
   "metadata": {},
   "outputs": [
    {
     "data": {
      "text/plain": [
       "{'name': 'search_product',\n",
       " 'description': 'Search for products on Amazon based on a query.',\n",
       " 'parameters': {'properties': {'product_query': {'description': 'The query string for the product search',\n",
       "    'type': 'string'}},\n",
       "  'required': ['product_query'],\n",
       "  'type': 'object'}}"
      ]
     },
     "execution_count": 12,
     "metadata": {},
     "output_type": "execute_result"
    }
   ],
   "source": [
    "convert_to_openai_function(search_product)"
   ]
  },
  {
   "cell_type": "code",
   "execution_count": 14,
   "id": "89a0d9a9-7495-410c-8e89-32c5d872d95e",
   "metadata": {},
   "outputs": [],
   "source": [
    "tools = [search_product, add_to_cart, summarize_cart, buy_product]"
   ]
  },
  {
   "cell_type": "markdown",
   "id": "44130ca7-448b-4b3c-8334-abb675b7e764",
   "metadata": {},
   "source": [
    "# Function Calling through Langchain"
   ]
  },
  {
   "cell_type": "code",
   "execution_count": 16,
   "id": "18cdf8c0-2599-46af-ab4f-54c61ff1ba05",
   "metadata": {},
   "outputs": [],
   "source": [
    "from langchain_openai import ChatOpenAI\n",
    "from langchain.prompts import ChatPromptTemplate\n",
    "from langchain.agents.output_parsers import OpenAIFunctionsAgentOutputParser"
   ]
  },
  {
   "cell_type": "code",
   "execution_count": 23,
   "id": "fcad0d6c-32a5-47c5-b529-9fee9c292628",
   "metadata": {},
   "outputs": [],
   "source": [
    "functions = [convert_to_openai_function(f) for f in tools]\n",
    "\n",
    "model = ChatOpenAI(model=\"gpt-4o\").bind(functions=functions)\n",
    "\n",
    "prompt = ChatPromptTemplate.from_messages([\n",
    "    (\"system\", \"You are helpful but sassy assistant\"),\n",
    "    (\"user\", \"{input}\"),\n",
    "])\n",
    "chain = prompt | model | OpenAIFunctionsAgentOutputParser()"
   ]
  },
  {
   "cell_type": "code",
   "execution_count": 24,
   "id": "3d6e95fb-1c2f-4af1-a963-81a6f2f564ed",
   "metadata": {},
   "outputs": [],
   "source": [
    "result = chain.invoke({\"input\": \"search for blue hand bag\"})"
   ]
  },
  {
   "cell_type": "code",
   "execution_count": 25,
   "id": "08f12396-ad91-41b9-95f8-7a6f61fa2bb8",
   "metadata": {},
   "outputs": [
    {
     "data": {
      "text/plain": [
       "AgentActionMessageLog(tool='search_product', tool_input={'product_query': 'blue hand bag'}, log=\"\\nInvoking: `search_product` with `{'product_query': 'blue hand bag'}`\\n\\n\\n\", message_log=[AIMessage(content='', additional_kwargs={'function_call': {'arguments': '{\"product_query\":\"blue hand bag\"}', 'name': 'search_product'}, 'refusal': None}, response_metadata={'token_usage': {'completion_tokens': 18, 'prompt_tokens': 192, 'total_tokens': 210, 'completion_tokens_details': {'audio_tokens': 0, 'reasoning_tokens': 0, 'accepted_prediction_tokens': 0, 'rejected_prediction_tokens': 0}, 'prompt_tokens_details': {'audio_tokens': 0, 'cached_tokens': 0}}, 'model_name': 'gpt-4o-2024-08-06', 'system_fingerprint': 'fp_4691090a87', 'finish_reason': 'function_call', 'logprobs': None}, id='run-c27d24c7-8514-4500-9559-54bb865810ef-0', usage_metadata={'input_tokens': 192, 'output_tokens': 18, 'total_tokens': 210, 'input_token_details': {'audio': 0, 'cache_read': 0}, 'output_token_details': {'audio': 0, 'reasoning': 0}})])"
      ]
     },
     "execution_count": 25,
     "metadata": {},
     "output_type": "execute_result"
    }
   ],
   "source": [
    "result"
   ]
  },
  {
   "cell_type": "code",
   "execution_count": 27,
   "id": "ee38d5d8-830c-47f0-b435-a4ccb55f08a4",
   "metadata": {},
   "outputs": [
    {
     "data": {
      "text/plain": [
       "'search_product'"
      ]
     },
     "execution_count": 27,
     "metadata": {},
     "output_type": "execute_result"
    }
   ],
   "source": [
    "result.tool"
   ]
  },
  {
   "cell_type": "code",
   "execution_count": 28,
   "id": "62d1ea01-348d-4200-be7c-b1e2f00405c3",
   "metadata": {},
   "outputs": [
    {
     "data": {
      "text/plain": [
       "{'product_query': 'blue hand bag'}"
      ]
     },
     "execution_count": 28,
     "metadata": {},
     "output_type": "execute_result"
    }
   ],
   "source": [
    "result.tool_input"
   ]
  },
  {
   "cell_type": "code",
   "execution_count": 29,
   "id": "07d2d387-cf90-403e-b2df-af4460585c62",
   "metadata": {},
   "outputs": [],
   "source": [
    "observation = search_product.invoke(result.tool_input)"
   ]
  },
  {
   "cell_type": "code",
   "execution_count": 30,
   "id": "e2e289bc-5253-4f51-834c-ed2bee2e8688",
   "metadata": {},
   "outputs": [
    {
     "data": {
      "text/plain": [
       "[{'asin': 'B0D5LJLM4L',\n",
       "  'product_title': 'MakeMeChic Women&#x27;s Shoulder Bags Y2K PU Leather Clutch Small Purse Hobo Bags',\n",
       "  'product_price': '$23.99',\n",
       "  'product_original_price': None,\n",
       "  'currency': 'USD',\n",
       "  'product_star_rating': '4',\n",
       "  'product_num_ratings': 1,\n",
       "  'product_url': 'https://www.amazon.com/dp/B0D5LJLM4L',\n",
       "  'product_photo': 'https://m.media-amazon.com/images/I/616Rp2RAibL._AC_UL960_FMwebp_QL65_.jpg',\n",
       "  'product_num_offers': 1,\n",
       "  'product_minimum_offer_price': '$23.99',\n",
       "  'is_best_seller': False,\n",
       "  'is_amazon_choice': False,\n",
       "  'is_prime': True,\n",
       "  'climate_pledge_friendly': False,\n",
       "  'sales_volume': '50+ bought in past month',\n",
       "  'delivery': 'FREE delivery on $35 shipped by Amazon.',\n",
       "  'has_variations': True},\n",
       " {'asin': 'B06W5N7MG3',\n",
       "  'product_title': 'Groupcow New Ladies Evening Handbags Bridal Wedding Bag Handbag',\n",
       "  'product_price': '$11.99',\n",
       "  'product_original_price': '$12.99',\n",
       "  'currency': 'USD',\n",
       "  'product_star_rating': '4.6',\n",
       "  'product_num_ratings': 2009,\n",
       "  'product_url': 'https://www.amazon.com/dp/B06W5N7MG3',\n",
       "  'product_photo': 'https://m.media-amazon.com/images/I/61-fO0yIsHL._AC_UL960_FMwebp_QL65_.jpg',\n",
       "  'product_num_offers': 1,\n",
       "  'product_minimum_offer_price': '$11.99',\n",
       "  'is_best_seller': False,\n",
       "  'is_amazon_choice': False,\n",
       "  'is_prime': True,\n",
       "  'climate_pledge_friendly': False,\n",
       "  'sales_volume': '50+ bought in past month',\n",
       "  'delivery': 'FREE delivery Mon, Jan 27 on $35 of items shipped by AmazonOr fastest delivery Tomorrow, Jan 23',\n",
       "  'has_variations': True,\n",
       "  'product_badge': 'Save 8%'},\n",
       " {'asin': 'B0D4ZBGM41',\n",
       "  'product_title': 'Jorebill Shoulder Bags for Women, Vegan Leather Trendy Handbag Clutch Purse and Zipper Closure Tote Shoulder Purse',\n",
       "  'product_price': '$24.99',\n",
       "  'product_original_price': None,\n",
       "  'currency': 'USD',\n",
       "  'product_star_rating': '4.5',\n",
       "  'product_num_ratings': 37,\n",
       "  'product_url': 'https://www.amazon.com/dp/B0D4ZBGM41',\n",
       "  'product_photo': 'https://m.media-amazon.com/images/I/71DKH2pyp+L._AC_UL960_FMwebp_QL65_.jpg',\n",
       "  'product_num_offers': 1,\n",
       "  'product_minimum_offer_price': '$24.99',\n",
       "  'is_best_seller': False,\n",
       "  'is_amazon_choice': False,\n",
       "  'is_prime': True,\n",
       "  'climate_pledge_friendly': False,\n",
       "  'sales_volume': None,\n",
       "  'delivery': 'FREE delivery Mon, Jan 27 on $35 of items shipped by AmazonOr fastest delivery Tomorrow, Jan 23',\n",
       "  'has_variations': True}]"
      ]
     },
     "execution_count": 30,
     "metadata": {},
     "output_type": "execute_result"
    }
   ],
   "source": [
    "observation"
   ]
  },
  {
   "cell_type": "markdown",
   "id": "37585584-a7d6-4594-8696-a38571419b9b",
   "metadata": {},
   "source": [
    "# AgentFinish example with agent scratchpad"
   ]
  },
  {
   "cell_type": "code",
   "execution_count": 31,
   "id": "1c303b16-030a-4415-b292-a4e3306763e7",
   "metadata": {},
   "outputs": [],
   "source": [
    "from langchain.prompts import MessagesPlaceholder\n",
    "\n",
    "prompt = ChatPromptTemplate.from_messages([\n",
    "    (\"system\", \"You are helpful but sassy assistant\"),\n",
    "    (\"user\", \"{input}\"),\n",
    "    MessagesPlaceholder(variable_name=\"agent_scratchpad\")\n",
    "])"
   ]
  },
  {
   "cell_type": "code",
   "execution_count": 32,
   "id": "1036592a-f17e-4530-9e50-443718e66a86",
   "metadata": {},
   "outputs": [],
   "source": [
    "chain = prompt | model | OpenAIFunctionsAgentOutputParser()"
   ]
  },
  {
   "cell_type": "code",
   "execution_count": 34,
   "id": "7ee2d60e-0640-47be-8cc8-6cc653af6d0b",
   "metadata": {},
   "outputs": [],
   "source": [
    "result = chain.invoke({\"input\": \"search for blue hand bag\", \"agent_scratchpad\": []})"
   ]
  },
  {
   "cell_type": "code",
   "execution_count": 35,
   "id": "ba1e5771-69b0-476d-befb-8dd2a89a8956",
   "metadata": {},
   "outputs": [
    {
     "data": {
      "text/plain": [
       "AgentActionMessageLog(tool='search_product', tool_input={'product_query': 'blue hand bag'}, log=\"\\nInvoking: `search_product` with `{'product_query': 'blue hand bag'}`\\n\\n\\n\", message_log=[AIMessage(content='', additional_kwargs={'function_call': {'arguments': '{\"product_query\":\"blue hand bag\"}', 'name': 'search_product'}, 'refusal': None}, response_metadata={'token_usage': {'completion_tokens': 18, 'prompt_tokens': 192, 'total_tokens': 210, 'completion_tokens_details': {'audio_tokens': 0, 'reasoning_tokens': 0, 'accepted_prediction_tokens': 0, 'rejected_prediction_tokens': 0}, 'prompt_tokens_details': {'audio_tokens': 0, 'cached_tokens': 0}}, 'model_name': 'gpt-4o-2024-08-06', 'system_fingerprint': 'fp_50cad350e4', 'finish_reason': 'function_call', 'logprobs': None}, id='run-55f45045-d8f7-4c2b-8bfe-c5e292741539-0', usage_metadata={'input_tokens': 192, 'output_tokens': 18, 'total_tokens': 210, 'input_token_details': {'audio': 0, 'cache_read': 0}, 'output_token_details': {'audio': 0, 'reasoning': 0}})])"
      ]
     },
     "execution_count": 35,
     "metadata": {},
     "output_type": "execute_result"
    }
   ],
   "source": [
    "result"
   ]
  },
  {
   "cell_type": "code",
   "execution_count": 37,
   "id": "31fc9a46-d30d-4752-b9e1-c6dd6b0b3661",
   "metadata": {},
   "outputs": [],
   "source": [
    "observation = search_product.invoke(result.tool_input)"
   ]
  },
  {
   "cell_type": "code",
   "execution_count": 38,
   "id": "e10160da-23bf-4603-a4f7-85d57b28d8d5",
   "metadata": {},
   "outputs": [],
   "source": [
    "from langchain.agents.format_scratchpad import format_to_openai_functions"
   ]
  },
  {
   "cell_type": "code",
   "execution_count": 39,
   "id": "83d669cc-63e9-4caa-9285-1f5dc092723c",
   "metadata": {},
   "outputs": [
    {
     "data": {
      "text/plain": [
       "[AIMessage(content='', additional_kwargs={'function_call': {'arguments': '{\"product_query\":\"blue hand bag\"}', 'name': 'search_product'}, 'refusal': None}, response_metadata={'token_usage': {'completion_tokens': 18, 'prompt_tokens': 192, 'total_tokens': 210, 'completion_tokens_details': {'audio_tokens': 0, 'reasoning_tokens': 0, 'accepted_prediction_tokens': 0, 'rejected_prediction_tokens': 0}, 'prompt_tokens_details': {'audio_tokens': 0, 'cached_tokens': 0}}, 'model_name': 'gpt-4o-2024-08-06', 'system_fingerprint': 'fp_50cad350e4', 'finish_reason': 'function_call', 'logprobs': None}, id='run-55f45045-d8f7-4c2b-8bfe-c5e292741539-0', usage_metadata={'input_tokens': 192, 'output_tokens': 18, 'total_tokens': 210, 'input_token_details': {'audio': 0, 'cache_read': 0}, 'output_token_details': {'audio': 0, 'reasoning': 0}}),\n",
       " FunctionMessage(content='[{\"asin\": \"B0D5LJLM4L\", \"product_title\": \"MakeMeChic Women&#x27;s Shoulder Bags Y2K PU Leather Clutch Small Purse Hobo Bags\", \"product_price\": \"$23.99\", \"product_original_price\": null, \"currency\": \"USD\", \"product_star_rating\": \"4\", \"product_num_ratings\": 1, \"product_url\": \"https://www.amazon.com/dp/B0D5LJLM4L\", \"product_photo\": \"https://m.media-amazon.com/images/I/616Rp2RAibL._AC_UL960_FMwebp_QL65_.jpg\", \"product_num_offers\": 1, \"product_minimum_offer_price\": \"$23.99\", \"is_best_seller\": false, \"is_amazon_choice\": false, \"is_prime\": true, \"climate_pledge_friendly\": false, \"sales_volume\": \"50+ bought in past month\", \"delivery\": \"FREE delivery on $35 shipped by Amazon.\", \"has_variations\": true}, {\"asin\": \"B06W5N7MG3\", \"product_title\": \"Groupcow New Ladies Evening Handbags Bridal Wedding Bag Handbag\", \"product_price\": \"$11.99\", \"product_original_price\": \"$12.99\", \"currency\": \"USD\", \"product_star_rating\": \"4.6\", \"product_num_ratings\": 2009, \"product_url\": \"https://www.amazon.com/dp/B06W5N7MG3\", \"product_photo\": \"https://m.media-amazon.com/images/I/61-fO0yIsHL._AC_UL960_FMwebp_QL65_.jpg\", \"product_num_offers\": 1, \"product_minimum_offer_price\": \"$11.99\", \"is_best_seller\": false, \"is_amazon_choice\": false, \"is_prime\": true, \"climate_pledge_friendly\": false, \"sales_volume\": \"50+ bought in past month\", \"delivery\": \"FREE delivery Mon, Jan 27 on $35 of items shipped by AmazonOr fastest delivery Tomorrow, Jan 23\", \"has_variations\": true, \"product_badge\": \"Save 8%\"}, {\"asin\": \"B0D4ZBGM41\", \"product_title\": \"Jorebill Shoulder Bags for Women, Vegan Leather Trendy Handbag Clutch Purse and Zipper Closure Tote Shoulder Purse\", \"product_price\": \"$24.99\", \"product_original_price\": null, \"currency\": \"USD\", \"product_star_rating\": \"4.5\", \"product_num_ratings\": 37, \"product_url\": \"https://www.amazon.com/dp/B0D4ZBGM41\", \"product_photo\": \"https://m.media-amazon.com/images/I/71DKH2pyp+L._AC_UL960_FMwebp_QL65_.jpg\", \"product_num_offers\": 1, \"product_minimum_offer_price\": \"$24.99\", \"is_best_seller\": false, \"is_amazon_choice\": false, \"is_prime\": true, \"climate_pledge_friendly\": false, \"sales_volume\": null, \"delivery\": \"FREE delivery Mon, Jan 27 on $35 of items shipped by AmazonOr fastest delivery Tomorrow, Jan 23\", \"has_variations\": true}]', additional_kwargs={}, response_metadata={}, name='search_product')]"
      ]
     },
     "execution_count": 39,
     "metadata": {},
     "output_type": "execute_result"
    }
   ],
   "source": [
    "format_to_openai_functions([(result, observation), ])"
   ]
  },
  {
   "cell_type": "code",
   "execution_count": 40,
   "id": "6e4c8de7-d7d2-42a4-ad42-9120791f6bc7",
   "metadata": {},
   "outputs": [],
   "source": [
    "result2 = chain.invoke({\n",
    "    \"input\": \"search for blue hand bag\", \n",
    "    \"agent_scratchpad\": format_to_openai_functions([(result, observation)])\n",
    "})"
   ]
  },
  {
   "cell_type": "code",
   "execution_count": 41,
   "id": "67846641-fc74-463b-8f0b-9d7b33928b36",
   "metadata": {},
   "outputs": [
    {
     "data": {
      "text/plain": [
       "AgentFinish(return_values={'output': \"Here are some blue hand bags you might like:\\n\\n1. **MakeMeChic Women's Shoulder Bags Y2K PU Leather Clutch Small Purse Hobo Bags**\\n   - Price: $23.99\\n   - Rating: 4 stars from 1 rating\\n   - Prime Delivery: Yes\\n   - ![image](https://m.media-amazon.com/images/I/616Rp2RAibL._AC_UL960_FMwebp_QL65_.jpg)\\n   - [View on Amazon](https://www.amazon.com/dp/B0D5LJLM4L)\\n\\n2. **Groupcow New Ladies Evening Handbags Bridal Wedding Bag Handbag**\\n   - Price: $11.99 (Save 8% from $12.99)\\n   - Rating: 4.6 stars from 2009 ratings\\n   - Prime Delivery: Yes\\n   - ![image](https://m.media-amazon.com/images/I/61-fO0yIsHL._AC_UL960_FMwebp_QL65_.jpg)\\n   - [View on Amazon](https://www.amazon.com/dp/B06W5N7MG3)\\n\\n3. **Jorebill Shoulder Bags for Women, Vegan Leather Trendy Handbag Clutch Purse and Zipper Closure Tote Shoulder Purse**\\n   - Price: $24.99\\n   - Rating: 4.5 stars from 37 ratings\\n   - Prime Delivery: Yes\\n   - ![image](https://m.media-amazon.com/images/I/71DKH2pyp+L._AC_UL960_FMwebp_QL65_.jpg)\\n   - [View on Amazon](https://www.amazon.com/dp/B0D4ZBGM41)\\n\\nLet me know if you want to add any of these to your cart or need more information!\"}, log=\"Here are some blue hand bags you might like:\\n\\n1. **MakeMeChic Women's Shoulder Bags Y2K PU Leather Clutch Small Purse Hobo Bags**\\n   - Price: $23.99\\n   - Rating: 4 stars from 1 rating\\n   - Prime Delivery: Yes\\n   - ![image](https://m.media-amazon.com/images/I/616Rp2RAibL._AC_UL960_FMwebp_QL65_.jpg)\\n   - [View on Amazon](https://www.amazon.com/dp/B0D5LJLM4L)\\n\\n2. **Groupcow New Ladies Evening Handbags Bridal Wedding Bag Handbag**\\n   - Price: $11.99 (Save 8% from $12.99)\\n   - Rating: 4.6 stars from 2009 ratings\\n   - Prime Delivery: Yes\\n   - ![image](https://m.media-amazon.com/images/I/61-fO0yIsHL._AC_UL960_FMwebp_QL65_.jpg)\\n   - [View on Amazon](https://www.amazon.com/dp/B06W5N7MG3)\\n\\n3. **Jorebill Shoulder Bags for Women, Vegan Leather Trendy Handbag Clutch Purse and Zipper Closure Tote Shoulder Purse**\\n   - Price: $24.99\\n   - Rating: 4.5 stars from 37 ratings\\n   - Prime Delivery: Yes\\n   - ![image](https://m.media-amazon.com/images/I/71DKH2pyp+L._AC_UL960_FMwebp_QL65_.jpg)\\n   - [View on Amazon](https://www.amazon.com/dp/B0D4ZBGM41)\\n\\nLet me know if you want to add any of these to your cart or need more information!\")"
      ]
     },
     "execution_count": 41,
     "metadata": {},
     "output_type": "execute_result"
    }
   ],
   "source": [
    "result2"
   ]
  },
  {
   "cell_type": "code",
   "execution_count": 42,
   "id": "2d687773-8df9-425b-b14b-3dd1973c8882",
   "metadata": {},
   "outputs": [
    {
     "name": "stdout",
     "output_type": "stream",
     "text": [
      "Here are some blue hand bags you might like:\n",
      "\n",
      "1. **MakeMeChic Women's Shoulder Bags Y2K PU Leather Clutch Small Purse Hobo Bags**\n",
      "   - Price: $23.99\n",
      "   - Rating: 4 stars from 1 rating\n",
      "   - Prime Delivery: Yes\n",
      "   - ![image](https://m.media-amazon.com/images/I/616Rp2RAibL._AC_UL960_FMwebp_QL65_.jpg)\n",
      "   - [View on Amazon](https://www.amazon.com/dp/B0D5LJLM4L)\n",
      "\n",
      "2. **Groupcow New Ladies Evening Handbags Bridal Wedding Bag Handbag**\n",
      "   - Price: $11.99 (Save 8% from $12.99)\n",
      "   - Rating: 4.6 stars from 2009 ratings\n",
      "   - Prime Delivery: Yes\n",
      "   - ![image](https://m.media-amazon.com/images/I/61-fO0yIsHL._AC_UL960_FMwebp_QL65_.jpg)\n",
      "   - [View on Amazon](https://www.amazon.com/dp/B06W5N7MG3)\n",
      "\n",
      "3. **Jorebill Shoulder Bags for Women, Vegan Leather Trendy Handbag Clutch Purse and Zipper Closure Tote Shoulder Purse**\n",
      "   - Price: $24.99\n",
      "   - Rating: 4.5 stars from 37 ratings\n",
      "   - Prime Delivery: Yes\n",
      "   - ![image](https://m.media-amazon.com/images/I/71DKH2pyp+L._AC_UL960_FMwebp_QL65_.jpg)\n",
      "   - [View on Amazon](https://www.amazon.com/dp/B0D4ZBGM41)\n",
      "\n",
      "Let me know if you want to add any of these to your cart or need more information!\n"
     ]
    }
   ],
   "source": [
    "print(result2.return_values[\"output\"])"
   ]
  },
  {
   "cell_type": "markdown",
   "id": "f78f67fe-662e-4342-8dbe-8dc94360cf54",
   "metadata": {},
   "source": [
    "# Agent loop using intermediate steps and agent scratchpad"
   ]
  },
  {
   "cell_type": "code",
   "execution_count": 43,
   "id": "f7ef1c41-6432-4105-a168-b6da65173366",
   "metadata": {},
   "outputs": [],
   "source": [
    "known_actions = {\n",
    "    \"search_product\": search_product,\n",
    "    \"add_to_cart\": add_to_cart,\n",
    "    \"summarize_cart\": summarize_cart,\n",
    "    \"buy_product\": buy_product,  \n",
    "}"
   ]
  },
  {
   "cell_type": "code",
   "execution_count": 44,
   "id": "1e307939-9805-4772-9d8e-d4ec1bb71903",
   "metadata": {},
   "outputs": [],
   "source": [
    "from langchain.schema.agent import AgentFinish\n",
    "\n",
    "def run_agent(user_input):\n",
    "    intermediate_steps = []\n",
    "    \n",
    "    while True:\n",
    "        result = chain.invoke({\n",
    "            \"input\": user_input, \n",
    "            \"agent_scratchpad\": format_to_openai_functions(intermediate_steps)\n",
    "        })\n",
    "        \n",
    "        if isinstance(result, AgentFinish):\n",
    "            return result\n",
    "            \n",
    "        tool = known_actions[result.tool]\n",
    "        observation = tool.run(result.tool_input)\n",
    "        intermediate_steps.append((result, observation))"
   ]
  },
  {
   "cell_type": "code",
   "execution_count": 45,
   "id": "07e2acf9-a5e9-4129-ae5c-dfd5f12d814e",
   "metadata": {},
   "outputs": [],
   "source": [
    "from langchain.schema.runnable import RunnablePassthrough\n",
    "\n",
    "agent_chain = RunnablePassthrough.assign(\n",
    "    agent_scratchpad= lambda x: format_to_openai_functions(x[\"intermediate_steps\"])\n",
    ") | prompt | model | OpenAIFunctionsAgentOutputParser()"
   ]
  },
  {
   "cell_type": "code",
   "execution_count": 46,
   "id": "55c57413-66f2-45f2-964d-a5c34948dfbd",
   "metadata": {},
   "outputs": [],
   "source": [
    "def run_agent(user_input):\n",
    "    intermediate_steps = []\n",
    "    while True:\n",
    "        result = agent_chain.invoke({\n",
    "            \"input\": user_input, \n",
    "            \"intermediate_steps\": intermediate_steps\n",
    "        })\n",
    "        if isinstance(result, AgentFinish):\n",
    "            return result\n",
    "        tool = known_actions[result.tool]\n",
    "        observation = tool.run(result.tool_input)\n",
    "        intermediate_steps.append((result, observation))"
   ]
  },
  {
   "cell_type": "code",
   "execution_count": 47,
   "id": "61c6e0fc-efb6-4f5b-913c-4e7d0f782d99",
   "metadata": {},
   "outputs": [
    {
     "name": "stdout",
     "output_type": "stream",
     "text": [
      "Here are some blue handbags I found for you:\n",
      "\n",
      "1. **MakeMeChic Women's Shoulder Bags**\n",
      "   - Price: $23.99\n",
      "   - Rating: ★★★★ (1 rating)\n",
      "   - [View on Amazon](https://www.amazon.com/dp/B0D5LJLM4L)\n",
      "   - ![Image](https://m.media-amazon.com/images/I/616Rp2RAibL._AC_UL960_FMwebp_QL65_.jpg)\n",
      "\n",
      "2. **Groupcow New Ladies Evening Handbags**\n",
      "   - Price: $11.99 (Original price: $12.99, Save 8%)\n",
      "   - Rating: ★★★★☆ (2009 ratings)\n",
      "   - [View on Amazon](https://www.amazon.com/dp/B06W5N7MG3)\n",
      "   - ![Image](https://m.media-amazon.com/images/I/61-fO0yIsHL._AC_UL960_FMwebp_QL65_.jpg)\n",
      "\n",
      "3. **Jorebill Shoulder Bags for Women**\n",
      "   - Price: $24.99\n",
      "   - Rating: ★★★★☆ (38 ratings)\n",
      "   - [View on Amazon](https://www.amazon.com/dp/B0D4ZBGM41)\n",
      "   - ![Image](https://m.media-amazon.com/images/I/71DKH2pyp+L._AC_UL960_FMwebp_QL65_.jpg)\n",
      "\n",
      "Let me know if you want to add any of these to your cart, or if you need more information.\n"
     ]
    }
   ],
   "source": [
    "response = run_agent(\"search for blue hand bag\")\n",
    "print(response.return_values[\"output\"])"
   ]
  },
  {
   "cell_type": "code",
   "execution_count": 48,
   "id": "99a69d02-15cf-4e86-9d4a-f26005a76747",
   "metadata": {},
   "outputs": [
    {
     "data": {
      "text/plain": [
       "AgentFinish(return_values={'output': \"Here are some blue handbags I found for you:\\n\\n1. **MakeMeChic Women's Shoulder Bags**\\n   - Price: $23.99\\n   - Rating: ★★★★ (1 rating)\\n   - [View on Amazon](https://www.amazon.com/dp/B0D5LJLM4L)\\n   - ![Image](https://m.media-amazon.com/images/I/616Rp2RAibL._AC_UL960_FMwebp_QL65_.jpg)\\n\\n2. **Groupcow New Ladies Evening Handbags**\\n   - Price: $11.99 (Original price: $12.99, Save 8%)\\n   - Rating: ★★★★☆ (2009 ratings)\\n   - [View on Amazon](https://www.amazon.com/dp/B06W5N7MG3)\\n   - ![Image](https://m.media-amazon.com/images/I/61-fO0yIsHL._AC_UL960_FMwebp_QL65_.jpg)\\n\\n3. **Jorebill Shoulder Bags for Women**\\n   - Price: $24.99\\n   - Rating: ★★★★☆ (38 ratings)\\n   - [View on Amazon](https://www.amazon.com/dp/B0D4ZBGM41)\\n   - ![Image](https://m.media-amazon.com/images/I/71DKH2pyp+L._AC_UL960_FMwebp_QL65_.jpg)\\n\\nLet me know if you want to add any of these to your cart, or if you need more information.\"}, log=\"Here are some blue handbags I found for you:\\n\\n1. **MakeMeChic Women's Shoulder Bags**\\n   - Price: $23.99\\n   - Rating: ★★★★ (1 rating)\\n   - [View on Amazon](https://www.amazon.com/dp/B0D5LJLM4L)\\n   - ![Image](https://m.media-amazon.com/images/I/616Rp2RAibL._AC_UL960_FMwebp_QL65_.jpg)\\n\\n2. **Groupcow New Ladies Evening Handbags**\\n   - Price: $11.99 (Original price: $12.99, Save 8%)\\n   - Rating: ★★★★☆ (2009 ratings)\\n   - [View on Amazon](https://www.amazon.com/dp/B06W5N7MG3)\\n   - ![Image](https://m.media-amazon.com/images/I/61-fO0yIsHL._AC_UL960_FMwebp_QL65_.jpg)\\n\\n3. **Jorebill Shoulder Bags for Women**\\n   - Price: $24.99\\n   - Rating: ★★★★☆ (38 ratings)\\n   - [View on Amazon](https://www.amazon.com/dp/B0D4ZBGM41)\\n   - ![Image](https://m.media-amazon.com/images/I/71DKH2pyp+L._AC_UL960_FMwebp_QL65_.jpg)\\n\\nLet me know if you want to add any of these to your cart, or if you need more information.\")"
      ]
     },
     "execution_count": 48,
     "metadata": {},
     "output_type": "execute_result"
    }
   ],
   "source": [
    "response"
   ]
  },
  {
   "cell_type": "markdown",
   "id": "3c80fb05-7e55-49b3-ac4e-ddaff50f837e",
   "metadata": {},
   "source": [
    "# Agent loop using AgentExecutor"
   ]
  },
  {
   "cell_type": "code",
   "execution_count": 49,
   "id": "ce60cf8c-2004-4cba-a34d-0763b14a3c42",
   "metadata": {},
   "outputs": [],
   "source": [
    "from langchain.agents import AgentExecutor\n",
    "\n",
    "agent_executor = AgentExecutor(agent=agent_chain, tools=tools, verbose=True)"
   ]
  },
  {
   "cell_type": "code",
   "execution_count": 50,
   "id": "29d272ba-3a21-419c-87de-53bee60a5514",
   "metadata": {},
   "outputs": [
    {
     "name": "stdout",
     "output_type": "stream",
     "text": [
      "\n",
      "\n",
      "\u001b[1m> Entering new AgentExecutor chain...\u001b[0m\n",
      "\u001b[32;1m\u001b[1;3m\n",
      "Invoking: `search_product` with `{'product_query': 'blue hand bag'}`\n",
      "\n",
      "\n",
      "\u001b[0m\u001b[36;1m\u001b[1;3m[{'asin': 'B0D5LJLM4L', 'product_title': 'MakeMeChic Women&#x27;s Shoulder Bags Y2K PU Leather Clutch Small Purse Hobo Bags', 'product_price': '$23.99', 'product_original_price': None, 'currency': 'USD', 'product_star_rating': '4', 'product_num_ratings': 1, 'product_url': 'https://www.amazon.com/dp/B0D5LJLM4L', 'product_photo': 'https://m.media-amazon.com/images/I/616Rp2RAibL._AC_UL960_FMwebp_QL65_.jpg', 'product_num_offers': 1, 'product_minimum_offer_price': '$23.99', 'is_best_seller': False, 'is_amazon_choice': False, 'is_prime': True, 'climate_pledge_friendly': False, 'sales_volume': '50+ bought in past month', 'delivery': 'FREE delivery on $35 shipped by Amazon.', 'has_variations': True}, {'asin': 'B06W5N7MG3', 'product_title': 'Groupcow New Ladies Evening Handbags Bridal Wedding Bag Handbag', 'product_price': '$11.99', 'product_original_price': '$12.99', 'currency': 'USD', 'product_star_rating': '4.6', 'product_num_ratings': 2009, 'product_url': 'https://www.amazon.com/dp/B06W5N7MG3', 'product_photo': 'https://m.media-amazon.com/images/I/61-fO0yIsHL._AC_UL960_FMwebp_QL65_.jpg', 'product_num_offers': 1, 'product_minimum_offer_price': '$11.99', 'is_best_seller': False, 'is_amazon_choice': False, 'is_prime': True, 'climate_pledge_friendly': False, 'sales_volume': '50+ bought in past month', 'delivery': 'FREE delivery Mon, Jan 27 on $35 of items shipped by AmazonOr fastest delivery Tomorrow, Jan 23', 'has_variations': True, 'product_badge': 'Save 8%'}, {'asin': 'B0D4ZBGM41', 'product_title': 'Jorebill Shoulder Bags for Women, Vegan Leather Trendy Handbag Clutch Purse and Zipper Closure Tote Shoulder Purse', 'product_price': '$24.99', 'product_original_price': None, 'currency': 'USD', 'product_star_rating': '4.5', 'product_num_ratings': 38, 'product_url': 'https://www.amazon.com/dp/B0D4ZBGM41', 'product_photo': 'https://m.media-amazon.com/images/I/71DKH2pyp+L._AC_UL960_FMwebp_QL65_.jpg', 'product_num_offers': 1, 'product_minimum_offer_price': '$24.99', 'is_best_seller': False, 'is_amazon_choice': False, 'is_prime': True, 'climate_pledge_friendly': False, 'sales_volume': None, 'delivery': 'FREE delivery Mon, Jan 27 on $35 of items shipped by AmazonOr fastest delivery Tomorrow, Jan 23', 'has_variations': True}]\u001b[0m\u001b[32;1m\u001b[1;3mHere are some blue handbags I found:\n",
      "\n",
      "1. **MakeMeChic Women's Shoulder Bag**\n",
      "   - Price: $23.99\n",
      "   - Rating: 4 stars (1 rating)\n",
      "   - [View on Amazon](https://www.amazon.com/dp/B0D5LJLM4L)\n",
      "   - ![Product Image](https://m.media-amazon.com/images/I/616Rp2RAibL._AC_UL960_FMwebp_QL65_.jpg)\n",
      "\n",
      "2. **Groupcow New Ladies Evening Handbag**\n",
      "   - Price: $11.99 (Originally $12.99, Save 8%)\n",
      "   - Rating: 4.6 stars (2009 ratings)\n",
      "   - [View on Amazon](https://www.amazon.com/dp/B06W5N7MG3)\n",
      "   - ![Product Image](https://m.media-amazon.com/images/I/61-fO0yIsHL._AC_UL960_FMwebp_QL65_.jpg)\n",
      "\n",
      "3. **Jorebill Shoulder Bags for Women**\n",
      "   - Price: $24.99\n",
      "   - Rating: 4.5 stars (38 ratings)\n",
      "   - [View on Amazon](https://www.amazon.com/dp/B0D4ZBGM41)\n",
      "   - ![Product Image](https://m.media-amazon.com/images/I/71DKH2pyp+L._AC_UL960_FMwebp_QL65_.jpg)\n",
      "\n",
      "Let me know if one of these catches your eye or if you need more information!\u001b[0m\n",
      "\n",
      "\u001b[1m> Finished chain.\u001b[0m\n",
      "Here are some blue handbags I found:\n",
      "\n",
      "1. **MakeMeChic Women's Shoulder Bag**\n",
      "   - Price: $23.99\n",
      "   - Rating: 4 stars (1 rating)\n",
      "   - [View on Amazon](https://www.amazon.com/dp/B0D5LJLM4L)\n",
      "   - ![Product Image](https://m.media-amazon.com/images/I/616Rp2RAibL._AC_UL960_FMwebp_QL65_.jpg)\n",
      "\n",
      "2. **Groupcow New Ladies Evening Handbag**\n",
      "   - Price: $11.99 (Originally $12.99, Save 8%)\n",
      "   - Rating: 4.6 stars (2009 ratings)\n",
      "   - [View on Amazon](https://www.amazon.com/dp/B06W5N7MG3)\n",
      "   - ![Product Image](https://m.media-amazon.com/images/I/61-fO0yIsHL._AC_UL960_FMwebp_QL65_.jpg)\n",
      "\n",
      "3. **Jorebill Shoulder Bags for Women**\n",
      "   - Price: $24.99\n",
      "   - Rating: 4.5 stars (38 ratings)\n",
      "   - [View on Amazon](https://www.amazon.com/dp/B0D4ZBGM41)\n",
      "   - ![Product Image](https://m.media-amazon.com/images/I/71DKH2pyp+L._AC_UL960_FMwebp_QL65_.jpg)\n",
      "\n",
      "Let me know if one of these catches your eye or if you need more information!\n"
     ]
    }
   ],
   "source": [
    "response = agent_executor.invoke({\"input\": \"search for blue hand bag\"})\n",
    "\n",
    "print(response[\"output\"])"
   ]
  },
  {
   "cell_type": "code",
   "execution_count": 51,
   "id": "a92b72f0-ebca-4c17-bea9-637819806f5d",
   "metadata": {},
   "outputs": [
    {
     "name": "stdout",
     "output_type": "stream",
     "text": [
      "\n",
      "\n",
      "\u001b[1m> Entering new AgentExecutor chain...\u001b[0m\n",
      "\u001b[32;1m\u001b[1;3mI can't add anything to your cart without knowing which product you're talking about. Could you please provide a product query or specify which product you're referring to?\u001b[0m\n",
      "\n",
      "\u001b[1m> Finished chain.\u001b[0m\n"
     ]
    },
    {
     "data": {
      "text/plain": [
       "{'input': 'add 1st product 2 quantity to the cart',\n",
       " 'output': \"I can't add anything to your cart without knowing which product you're talking about. Could you please provide a product query or specify which product you're referring to?\"}"
      ]
     },
     "execution_count": 51,
     "metadata": {},
     "output_type": "execute_result"
    }
   ],
   "source": [
    "agent_executor.invoke({\"input\": \"add 1st product 2 quantity to the cart\"})"
   ]
  },
  {
   "cell_type": "markdown",
   "id": "520256cc-12d3-40a1-b97f-a4c3fa01ed21",
   "metadata": {},
   "source": [
    "# AgentExecutor with chat history"
   ]
  },
  {
   "cell_type": "code",
   "execution_count": 52,
   "id": "5323f54b-feaa-4c8b-8bff-ae015439988d",
   "metadata": {},
   "outputs": [],
   "source": [
    "prompt = ChatPromptTemplate.from_messages([\n",
    "    (\"system\", \"You are helpful but sassy assistant\"),\n",
    "    MessagesPlaceholder(variable_name=\"chat_history\"),\n",
    "    (\"user\", \"{input}\"),\n",
    "    MessagesPlaceholder(variable_name=\"agent_scratchpad\")\n",
    "])"
   ]
  },
  {
   "cell_type": "code",
   "execution_count": 53,
   "id": "71d6b161-289d-4e03-a7d9-fdb299f5a6c7",
   "metadata": {},
   "outputs": [],
   "source": [
    "agent_chain = RunnablePassthrough.assign(\n",
    "    agent_scratchpad= lambda x: format_to_openai_functions(x[\"intermediate_steps\"])\n",
    ") | prompt | model | OpenAIFunctionsAgentOutputParser()"
   ]
  },
  {
   "cell_type": "code",
   "execution_count": 54,
   "id": "8e35dffb-9b18-44ff-bb30-dfc6f18e629b",
   "metadata": {},
   "outputs": [
    {
     "name": "stderr",
     "output_type": "stream",
     "text": [
      "/var/folders/8x/zgklw70125n0ny5z111xstsr0000gn/T/ipykernel_87896/2202226372.py:3: LangChainDeprecationWarning: Please see the migration guide at: https://python.langchain.com/docs/versions/migrating_memory/\n",
      "  memory = ConversationBufferMemory(return_messages=True, memory_key=\"chat_history\")\n"
     ]
    }
   ],
   "source": [
    "from langchain.memory import ConversationBufferMemory\n",
    "\n",
    "memory = ConversationBufferMemory(return_messages=True, memory_key=\"chat_history\")"
   ]
  },
  {
   "cell_type": "code",
   "execution_count": 55,
   "id": "222e883f-df4e-4464-85e6-3f7d22985b7d",
   "metadata": {},
   "outputs": [],
   "source": [
    "agent_executor = AgentExecutor(agent=agent_chain, tools=tools, verbose=True, memory=memory)"
   ]
  },
  {
   "cell_type": "code",
   "execution_count": 56,
   "id": "0ff3f462-8938-4d94-aa10-766cf06565d5",
   "metadata": {},
   "outputs": [
    {
     "name": "stdout",
     "output_type": "stream",
     "text": [
      "\n",
      "\n",
      "\u001b[1m> Entering new AgentExecutor chain...\u001b[0m\n",
      "\u001b[32;1m\u001b[1;3m\n",
      "Invoking: `search_product` with `{'product_query': 'blue hand bag'}`\n",
      "\n",
      "\n",
      "\u001b[0m\u001b[36;1m\u001b[1;3m[{'asin': 'B0D5LJLM4L', 'product_title': 'MakeMeChic Women&#x27;s Shoulder Bags Y2K PU Leather Clutch Small Purse Hobo Bags', 'product_price': '$23.99', 'product_original_price': None, 'currency': 'USD', 'product_star_rating': '4', 'product_num_ratings': 1, 'product_url': 'https://www.amazon.com/dp/B0D5LJLM4L', 'product_photo': 'https://m.media-amazon.com/images/I/616Rp2RAibL._AC_UL960_FMwebp_QL65_.jpg', 'product_num_offers': 1, 'product_minimum_offer_price': '$23.99', 'is_best_seller': False, 'is_amazon_choice': False, 'is_prime': True, 'climate_pledge_friendly': False, 'sales_volume': '50+ bought in past month', 'delivery': 'FREE delivery on $35 shipped by Amazon.', 'has_variations': True}, {'asin': 'B06W5N7MG3', 'product_title': 'Groupcow New Ladies Evening Handbags Bridal Wedding Bag Handbag', 'product_price': '$11.99', 'product_original_price': '$12.99', 'currency': 'USD', 'product_star_rating': '4.6', 'product_num_ratings': 2009, 'product_url': 'https://www.amazon.com/dp/B06W5N7MG3', 'product_photo': 'https://m.media-amazon.com/images/I/61-fO0yIsHL._AC_UL960_FMwebp_QL65_.jpg', 'product_num_offers': 1, 'product_minimum_offer_price': '$11.99', 'is_best_seller': False, 'is_amazon_choice': False, 'is_prime': True, 'climate_pledge_friendly': False, 'sales_volume': '50+ bought in past month', 'delivery': 'FREE delivery Mon, Jan 27 on $35 of items shipped by AmazonOr fastest delivery Tomorrow, Jan 23', 'has_variations': True, 'product_badge': 'Save 8%'}, {'asin': 'B0D4ZBGM41', 'product_title': 'Jorebill Shoulder Bags for Women, Vegan Leather Trendy Handbag Clutch Purse and Zipper Closure Tote Shoulder Purse', 'product_price': '$24.99', 'product_original_price': None, 'currency': 'USD', 'product_star_rating': '4.5', 'product_num_ratings': 38, 'product_url': 'https://www.amazon.com/dp/B0D4ZBGM41', 'product_photo': 'https://m.media-amazon.com/images/I/71DKH2pyp+L._AC_UL960_FMwebp_QL65_.jpg', 'product_num_offers': 1, 'product_minimum_offer_price': '$24.99', 'is_best_seller': False, 'is_amazon_choice': False, 'is_prime': True, 'climate_pledge_friendly': False, 'sales_volume': None, 'delivery': 'FREE delivery Mon, Jan 27 on $35 of items shipped by AmazonOr fastest delivery Tomorrow, Jan 23', 'has_variations': True}]\u001b[0m\u001b[32;1m\u001b[1;3mHere are some fabulous blue handbags for you to check out:\n",
      "\n",
      "1. **MakeMeChic Women’s Shoulder Bags**\n",
      "   - Price: $23.99\n",
      "   - Rating: ⭐️⭐️⭐️⭐️ (1 rating)\n",
      "   - [View on Amazon](https://www.amazon.com/dp/B0D5LJLM4L)\n",
      "   - ![MakeMeChic Women's Shoulder Bags](https://m.media-amazon.com/images/I/616Rp2RAibL._AC_UL960_FMwebp_QL65_.jpg)\n",
      "\n",
      "2. **Groupcow New Ladies Evening Handbags**\n",
      "   - Price: $11.99 (was $12.99)\n",
      "   - Rating: ⭐️⭐️⭐️⭐️⭐️ (4.6 from 2009 ratings)\n",
      "   - [View on Amazon](https://www.amazon.com/dp/B06W5N7MG3)\n",
      "   - ![Groupcow New Ladies Evening Handbags](https://m.media-amazon.com/images/I/61-fO0yIsHL._AC_UL960_FMwebp_QL65_.jpg)\n",
      "\n",
      "3. **Jorebill Shoulder Bags for Women**\n",
      "   - Price: $24.99\n",
      "   - Rating: ⭐️⭐️⭐️⭐️⭐️ (4.5 from 38 ratings)\n",
      "   - [View on Amazon](https://www.amazon.com/dp/B0D4ZBGM41)\n",
      "   - ![Jorebill Shoulder Bags for Women](https://m.media-amazon.com/images/I/71DKH2pyp+L._AC_UL960_FMwebp_QL65_.jpg)\n",
      "\n",
      "Let me know if you want to grab one of these chic bags for yourself! 😊\u001b[0m\n",
      "\n",
      "\u001b[1m> Finished chain.\u001b[0m\n"
     ]
    },
    {
     "data": {
      "text/plain": [
       "{'input': 'search for blue hand bag',\n",
       " 'chat_history': [HumanMessage(content='search for blue hand bag', additional_kwargs={}, response_metadata={}),\n",
       "  AIMessage(content=\"Here are some fabulous blue handbags for you to check out:\\n\\n1. **MakeMeChic Women’s Shoulder Bags**\\n   - Price: $23.99\\n   - Rating: ⭐️⭐️⭐️⭐️ (1 rating)\\n   - [View on Amazon](https://www.amazon.com/dp/B0D5LJLM4L)\\n   - ![MakeMeChic Women's Shoulder Bags](https://m.media-amazon.com/images/I/616Rp2RAibL._AC_UL960_FMwebp_QL65_.jpg)\\n\\n2. **Groupcow New Ladies Evening Handbags**\\n   - Price: $11.99 (was $12.99)\\n   - Rating: ⭐️⭐️⭐️⭐️⭐️ (4.6 from 2009 ratings)\\n   - [View on Amazon](https://www.amazon.com/dp/B06W5N7MG3)\\n   - ![Groupcow New Ladies Evening Handbags](https://m.media-amazon.com/images/I/61-fO0yIsHL._AC_UL960_FMwebp_QL65_.jpg)\\n\\n3. **Jorebill Shoulder Bags for Women**\\n   - Price: $24.99\\n   - Rating: ⭐️⭐️⭐️⭐️⭐️ (4.5 from 38 ratings)\\n   - [View on Amazon](https://www.amazon.com/dp/B0D4ZBGM41)\\n   - ![Jorebill Shoulder Bags for Women](https://m.media-amazon.com/images/I/71DKH2pyp+L._AC_UL960_FMwebp_QL65_.jpg)\\n\\nLet me know if you want to grab one of these chic bags for yourself! 😊\", additional_kwargs={}, response_metadata={})],\n",
       " 'output': \"Here are some fabulous blue handbags for you to check out:\\n\\n1. **MakeMeChic Women’s Shoulder Bags**\\n   - Price: $23.99\\n   - Rating: ⭐️⭐️⭐️⭐️ (1 rating)\\n   - [View on Amazon](https://www.amazon.com/dp/B0D5LJLM4L)\\n   - ![MakeMeChic Women's Shoulder Bags](https://m.media-amazon.com/images/I/616Rp2RAibL._AC_UL960_FMwebp_QL65_.jpg)\\n\\n2. **Groupcow New Ladies Evening Handbags**\\n   - Price: $11.99 (was $12.99)\\n   - Rating: ⭐️⭐️⭐️⭐️⭐️ (4.6 from 2009 ratings)\\n   - [View on Amazon](https://www.amazon.com/dp/B06W5N7MG3)\\n   - ![Groupcow New Ladies Evening Handbags](https://m.media-amazon.com/images/I/61-fO0yIsHL._AC_UL960_FMwebp_QL65_.jpg)\\n\\n3. **Jorebill Shoulder Bags for Women**\\n   - Price: $24.99\\n   - Rating: ⭐️⭐️⭐️⭐️⭐️ (4.5 from 38 ratings)\\n   - [View on Amazon](https://www.amazon.com/dp/B0D4ZBGM41)\\n   - ![Jorebill Shoulder Bags for Women](https://m.media-amazon.com/images/I/71DKH2pyp+L._AC_UL960_FMwebp_QL65_.jpg)\\n\\nLet me know if you want to grab one of these chic bags for yourself! 😊\"}"
      ]
     },
     "execution_count": 56,
     "metadata": {},
     "output_type": "execute_result"
    }
   ],
   "source": [
    "agent_executor.invoke({\"input\": \"search for blue hand bag\"})"
   ]
  },
  {
   "cell_type": "code",
   "execution_count": 57,
   "id": "8f246b9c-d5ab-4896-a9a4-0d442fb32581",
   "metadata": {},
   "outputs": [
    {
     "name": "stdout",
     "output_type": "stream",
     "text": [
      "\n",
      "\n",
      "\u001b[1m> Entering new AgentExecutor chain...\u001b[0m\n",
      "\u001b[32;1m\u001b[1;3m\n",
      "Invoking: `add_to_cart` with `{'product_id': 'B0D5LJLM4L', 'quantity': 2}`\n",
      "\n",
      "\n",
      "\u001b[0m\u001b[33;1m\u001b[1;3mTrue\u001b[0m\u001b[32;1m\u001b[1;3mI've added two of the fabulous **MakeMeChic Women’s Shoulder Bags** to your cart. If you need anything else or want to proceed to checkout, just let me know! 💼✨\u001b[0m\n",
      "\n",
      "\u001b[1m> Finished chain.\u001b[0m\n"
     ]
    },
    {
     "data": {
      "text/plain": [
       "{'input': 'add 1st product 2 quantity to the cart',\n",
       " 'chat_history': [HumanMessage(content='search for blue hand bag', additional_kwargs={}, response_metadata={}),\n",
       "  AIMessage(content=\"Here are some fabulous blue handbags for you to check out:\\n\\n1. **MakeMeChic Women’s Shoulder Bags**\\n   - Price: $23.99\\n   - Rating: ⭐️⭐️⭐️⭐️ (1 rating)\\n   - [View on Amazon](https://www.amazon.com/dp/B0D5LJLM4L)\\n   - ![MakeMeChic Women's Shoulder Bags](https://m.media-amazon.com/images/I/616Rp2RAibL._AC_UL960_FMwebp_QL65_.jpg)\\n\\n2. **Groupcow New Ladies Evening Handbags**\\n   - Price: $11.99 (was $12.99)\\n   - Rating: ⭐️⭐️⭐️⭐️⭐️ (4.6 from 2009 ratings)\\n   - [View on Amazon](https://www.amazon.com/dp/B06W5N7MG3)\\n   - ![Groupcow New Ladies Evening Handbags](https://m.media-amazon.com/images/I/61-fO0yIsHL._AC_UL960_FMwebp_QL65_.jpg)\\n\\n3. **Jorebill Shoulder Bags for Women**\\n   - Price: $24.99\\n   - Rating: ⭐️⭐️⭐️⭐️⭐️ (4.5 from 38 ratings)\\n   - [View on Amazon](https://www.amazon.com/dp/B0D4ZBGM41)\\n   - ![Jorebill Shoulder Bags for Women](https://m.media-amazon.com/images/I/71DKH2pyp+L._AC_UL960_FMwebp_QL65_.jpg)\\n\\nLet me know if you want to grab one of these chic bags for yourself! 😊\", additional_kwargs={}, response_metadata={}),\n",
       "  HumanMessage(content='add 1st product 2 quantity to the cart', additional_kwargs={}, response_metadata={}),\n",
       "  AIMessage(content=\"I've added two of the fabulous **MakeMeChic Women’s Shoulder Bags** to your cart. If you need anything else or want to proceed to checkout, just let me know! 💼✨\", additional_kwargs={}, response_metadata={})],\n",
       " 'output': \"I've added two of the fabulous **MakeMeChic Women’s Shoulder Bags** to your cart. If you need anything else or want to proceed to checkout, just let me know! 💼✨\"}"
      ]
     },
     "execution_count": 57,
     "metadata": {},
     "output_type": "execute_result"
    }
   ],
   "source": [
    "agent_executor.invoke({\"input\": \"add 1st product 2 quantity to the cart\"})"
   ]
  },
  {
   "cell_type": "code",
   "execution_count": 58,
   "id": "5215a626-628d-44d8-9b88-c4da751a1fe3",
   "metadata": {},
   "outputs": [
    {
     "data": {
      "text/plain": [
       "[{'product_id': 'B0D5LJLM4L', 'quantity': 2}]"
      ]
     },
     "execution_count": 58,
     "metadata": {},
     "output_type": "execute_result"
    }
   ],
   "source": [
    "cart"
   ]
  },
  {
   "cell_type": "code",
   "execution_count": null,
   "id": "b42a4f97-3369-4f81-ade0-8100f9cc9430",
   "metadata": {},
   "outputs": [],
   "source": []
  }
 ],
 "metadata": {
  "kernelspec": {
   "display_name": "Python 3 (ipykernel)",
   "language": "python",
   "name": "python3"
  },
  "language_info": {
   "codemirror_mode": {
    "name": "ipython",
    "version": 3
   },
   "file_extension": ".py",
   "mimetype": "text/x-python",
   "name": "python",
   "nbconvert_exporter": "python",
   "pygments_lexer": "ipython3",
   "version": "3.11.9"
  }
 },
 "nbformat": 4,
 "nbformat_minor": 5
}
