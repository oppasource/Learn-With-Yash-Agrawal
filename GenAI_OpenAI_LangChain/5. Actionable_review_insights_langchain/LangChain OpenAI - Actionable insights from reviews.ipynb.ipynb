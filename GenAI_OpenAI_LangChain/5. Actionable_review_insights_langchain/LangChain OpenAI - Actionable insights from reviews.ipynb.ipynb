{
 "cells": [
  {
   "cell_type": "code",
   "execution_count": 1,
   "id": "967feb01-f2b2-42ef-a153-e7a03cf1c82f",
   "metadata": {},
   "outputs": [
    {
     "data": {
      "text/plain": [
       "True"
      ]
     },
     "execution_count": 1,
     "metadata": {},
     "output_type": "execute_result"
    }
   ],
   "source": [
    "from langchain_openai import ChatOpenAI\n",
    "from langchain_core.prompts import PromptTemplate\n",
    "from langchain_core.output_parsers import StrOutputParser\n",
    "from dotenv import load_dotenv\n",
    "\n",
    "load_dotenv()"
   ]
  },
  {
   "cell_type": "code",
   "execution_count": 2,
   "id": "24280d05-2368-4a08-90b8-1cc6a326f269",
   "metadata": {},
   "outputs": [],
   "source": [
    "model = ChatOpenAI(model=\"gpt-4o-mini\")\n",
    "\n",
    "parser = StrOutputParser()"
   ]
  },
  {
   "cell_type": "code",
   "execution_count": 3,
   "id": "9c41d1cd-5c8f-4f11-9fd0-ce29b3c06f0b",
   "metadata": {},
   "outputs": [],
   "source": [
    "review_compression_prompt = \"\"\"\n",
    "Give sentiment and themes for the given input review.\n",
    "\n",
    "Give output as json with \"sentiment\" key and value should be either of [POSITIVE, NEUTRAL, NEGATIVE]. \n",
    "And another key \"themes\" with list of themes talked about in the review, for example \"Producut Issue\", \"Packaging Issue\", etc.\n",
    "\n",
    "Strictly only give json output as string and nothing else. Do not give markdown.\n",
    "\n",
    "Input Review:\n",
    "```\n",
    "{input_review}\n",
    "```\n",
    "\"\"\""
   ]
  },
  {
   "cell_type": "code",
   "execution_count": 4,
   "id": "fb79813c-1b64-497a-a18b-66d6276128f8",
   "metadata": {},
   "outputs": [
    {
     "name": "stdout",
     "output_type": "stream",
     "text": [
      "\n",
      "Give sentiment and themes for the given input review.\n",
      "\n",
      "Give output as json with \"sentiment\" key and value should be either of [POSITIVE, NEUTRAL, NEGATIVE]. \n",
      "And another key \"themes\" with list of themes talked about in the review, for example \"Producut Issue\", \"Packaging Issue\", etc.\n",
      "\n",
      "Strictly only give json output as string and nothing else. Do not give markdown.\n",
      "\n",
      "Input Review:\n",
      "```\n",
      "This bedsheet is beautiful and looks just like in the picture. The print is very pretty. It is really comfortable and smooth. Fabric is very nice , color doesn’t fade even after the wash. It fits our queen size bed perfectly ( it can be easy used for King size bed) . Go for it, value for money.\n",
      "```\n",
      "\n"
     ]
    }
   ],
   "source": [
    "input_review = \"This bedsheet is beautiful and looks just like in the picture. The print is very pretty. It is really comfortable and smooth. Fabric is very nice , color doesn’t fade even after the wash. It fits our queen size bed perfectly ( it can be easy used for King size bed) . Go for it, value for money.\"\n",
    "\n",
    "prompt_template = PromptTemplate(template=review_compression_prompt)\n",
    "\n",
    "input_prompt = prompt_template.invoke({\"input_review\":input_review})\n",
    "print(input_prompt.text)"
   ]
  },
  {
   "cell_type": "code",
   "execution_count": 5,
   "id": "4ef3827a-8a6e-4eb6-b809-f6f143097d2f",
   "metadata": {},
   "outputs": [
    {
     "name": "stdout",
     "output_type": "stream",
     "text": [
      "{\"sentiment\":\"POSITIVE\",\"themes\":[\"Product Quality\",\"Comfort\",\"Value for Money\",\"Design\"]}\n"
     ]
    }
   ],
   "source": [
    "result = model.invoke(input_prompt)\n",
    "compressed_review = parser.invoke(result)\n",
    "\n",
    "print(compressed_review)"
   ]
  },
  {
   "cell_type": "code",
   "execution_count": 6,
   "id": "bea4d321-6450-47f6-a5dd-429453dfee16",
   "metadata": {},
   "outputs": [
    {
     "ename": "TypeError",
     "evalue": "string indices must be integers, not 'str'",
     "output_type": "error",
     "traceback": [
      "\u001b[0;31m---------------------------------------------------------------------------\u001b[0m",
      "\u001b[0;31mTypeError\u001b[0m                                 Traceback (most recent call last)",
      "Cell \u001b[0;32mIn[6], line 1\u001b[0m\n\u001b[0;32m----> 1\u001b[0m \u001b[43mcompressed_review\u001b[49m\u001b[43m[\u001b[49m\u001b[38;5;124;43m\"\u001b[39;49m\u001b[38;5;124;43msentiment\u001b[39;49m\u001b[38;5;124;43m\"\u001b[39;49m\u001b[43m]\u001b[49m\n",
      "\u001b[0;31mTypeError\u001b[0m: string indices must be integers, not 'str'"
     ]
    }
   ],
   "source": [
    "compressed_review[\"sentiment\"]"
   ]
  },
  {
   "cell_type": "markdown",
   "id": "0885d1d8-226d-4eb2-93b3-fe1e09533388",
   "metadata": {},
   "source": [
    "# JSON output parser and format instruction through LangChain\n",
    "\n",
    "Reference: https://python.langchain.com/v0.1/docs/modules/model_io/output_parsers/types/json/"
   ]
  },
  {
   "cell_type": "code",
   "execution_count": 7,
   "id": "a549a414-e68d-46bf-9340-8bf374291ce4",
   "metadata": {},
   "outputs": [],
   "source": [
    "from langchain_core.output_parsers import JsonOutputParser\n",
    "from pydantic import BaseModel, Field\n",
    "from enum import Enum"
   ]
  },
  {
   "cell_type": "code",
   "execution_count": 8,
   "id": "f44c1054-c615-4e42-83ee-b84ce7f154ec",
   "metadata": {},
   "outputs": [],
   "source": [
    "class Sentiment(str, Enum):\n",
    "    positive = 'POSITIVE'\n",
    "    neutral = 'NEUTRAL'\n",
    "    negative = 'NEGATIVE'\n",
    "\n",
    "\n",
    "class CompressedReview(BaseModel):\n",
    "    sentiment: Sentiment = Field(description=\"gives sentiment value for the review\")\n",
    "    themes: list = Field(description=\"themes expressed in the review\")"
   ]
  },
  {
   "cell_type": "code",
   "execution_count": 9,
   "id": "d1de031e-f83e-4bdb-b48a-20cdff90a4d8",
   "metadata": {},
   "outputs": [],
   "source": [
    "parser = JsonOutputParser(pydantic_object=CompressedReview)"
   ]
  },
  {
   "cell_type": "code",
   "execution_count": 10,
   "id": "9e9f22ee-9d57-4463-a130-55204d018687",
   "metadata": {},
   "outputs": [],
   "source": [
    "prompt = PromptTemplate(\n",
    "    template=\"Give sentiment and themes for a review.\\n{format_instructions}\\nInput Review:\\n```\\n{input_review}\\n```\\n\",\n",
    "    input_variables=[\"input_review\"],\n",
    "    partial_variables={\"format_instructions\": parser.get_format_instructions()},\n",
    ")"
   ]
  },
  {
   "cell_type": "code",
   "execution_count": 11,
   "id": "03d8a83d-057a-448a-ab21-bcc92dbad21d",
   "metadata": {},
   "outputs": [
    {
     "name": "stdout",
     "output_type": "stream",
     "text": [
      "The output should be formatted as a JSON instance that conforms to the JSON schema below.\n",
      "\n",
      "As an example, for the schema {\"properties\": {\"foo\": {\"title\": \"Foo\", \"description\": \"a list of strings\", \"type\": \"array\", \"items\": {\"type\": \"string\"}}}, \"required\": [\"foo\"]}\n",
      "the object {\"foo\": [\"bar\", \"baz\"]} is a well-formatted instance of the schema. The object {\"properties\": {\"foo\": [\"bar\", \"baz\"]}} is not well-formatted.\n",
      "\n",
      "Here is the output schema:\n",
      "```\n",
      "{\"$defs\": {\"Sentiment\": {\"enum\": [\"POSITIVE\", \"NEUTRAL\", \"NEGATIVE\"], \"title\": \"Sentiment\", \"type\": \"string\"}}, \"properties\": {\"sentiment\": {\"$ref\": \"#/$defs/Sentiment\", \"description\": \"gives sentiment value for the review\"}, \"themes\": {\"description\": \"themes expressed in the review\", \"items\": {}, \"title\": \"Themes\", \"type\": \"array\"}}, \"required\": [\"sentiment\", \"themes\"]}\n",
      "```\n"
     ]
    }
   ],
   "source": [
    "print(parser.get_format_instructions())"
   ]
  },
  {
   "cell_type": "code",
   "execution_count": 12,
   "id": "375ee0dd-0b6e-4b43-aba2-89d32abfac86",
   "metadata": {},
   "outputs": [
    {
     "name": "stdout",
     "output_type": "stream",
     "text": [
      "Give sentiment and themes for a review.\n",
      "The output should be formatted as a JSON instance that conforms to the JSON schema below.\n",
      "\n",
      "As an example, for the schema {\"properties\": {\"foo\": {\"title\": \"Foo\", \"description\": \"a list of strings\", \"type\": \"array\", \"items\": {\"type\": \"string\"}}}, \"required\": [\"foo\"]}\n",
      "the object {\"foo\": [\"bar\", \"baz\"]} is a well-formatted instance of the schema. The object {\"properties\": {\"foo\": [\"bar\", \"baz\"]}} is not well-formatted.\n",
      "\n",
      "Here is the output schema:\n",
      "```\n",
      "{\"$defs\": {\"Sentiment\": {\"enum\": [\"POSITIVE\", \"NEUTRAL\", \"NEGATIVE\"], \"title\": \"Sentiment\", \"type\": \"string\"}}, \"properties\": {\"sentiment\": {\"$ref\": \"#/$defs/Sentiment\", \"description\": \"gives sentiment value for the review\"}, \"themes\": {\"description\": \"themes expressed in the review\", \"items\": {}, \"title\": \"Themes\", \"type\": \"array\"}}, \"required\": [\"sentiment\", \"themes\"]}\n",
      "```\n",
      "Input Review:\n",
      "```\n",
      "This bedsheet is beautiful and looks just like in the picture. The print is very pretty. It is really comfortable and smooth. Fabric is very nice , color doesn’t fade even after the wash. It fits our queen size bed perfectly ( it can be easy used for King size bed) . Go for it, value for money.\n",
      "```\n",
      "\n"
     ]
    }
   ],
   "source": [
    "formatted_prompt = prompt.invoke({\"input_review\": input_review})\n",
    "print(formatted_prompt.text)"
   ]
  },
  {
   "cell_type": "code",
   "execution_count": 13,
   "id": "b21f2785-c29b-4511-a47a-872e1fc1b9a3",
   "metadata": {},
   "outputs": [],
   "source": [
    "formatted_prompt = prompt.invoke({\"input_review\": input_review})\n",
    "result = model.invoke(formatted_prompt)\n",
    "compressed_review = parser.invoke(result)"
   ]
  },
  {
   "cell_type": "code",
   "execution_count": 14,
   "id": "2a39fb1a-9bfd-4102-b770-72bdb0635ad3",
   "metadata": {},
   "outputs": [
    {
     "data": {
      "text/plain": [
       "{'sentiment': 'POSITIVE',\n",
       " 'themes': ['Aesthetics', 'Comfort', 'Quality', 'Value for Money', 'Fit']}"
      ]
     },
     "execution_count": 14,
     "metadata": {},
     "output_type": "execute_result"
    }
   ],
   "source": [
    "compressed_review"
   ]
  },
  {
   "cell_type": "code",
   "execution_count": 15,
   "id": "3f892620-1172-4a75-ae86-37ff6c35b119",
   "metadata": {},
   "outputs": [
    {
     "data": {
      "text/plain": [
       "'POSITIVE'"
      ]
     },
     "execution_count": 15,
     "metadata": {},
     "output_type": "execute_result"
    }
   ],
   "source": [
    "compressed_review[\"sentiment\"]"
   ]
  },
  {
   "cell_type": "code",
   "execution_count": 16,
   "id": "96f7eb6a-214e-43d6-8294-605c5165d726",
   "metadata": {},
   "outputs": [],
   "source": [
    "# TODO: add the second part of prompt for actionable insight using StrOutputParser itself since it is a string. "
   ]
  },
  {
   "cell_type": "code",
   "execution_count": null,
   "id": "8e8fd155-512d-4c22-8caa-a2f7170a3aee",
   "metadata": {},
   "outputs": [],
   "source": []
  }
 ],
 "metadata": {
  "kernelspec": {
   "display_name": "Python 3 (ipykernel)",
   "language": "python",
   "name": "python3"
  },
  "language_info": {
   "codemirror_mode": {
    "name": "ipython",
    "version": 3
   },
   "file_extension": ".py",
   "mimetype": "text/x-python",
   "name": "python",
   "nbconvert_exporter": "python",
   "pygments_lexer": "ipython3",
   "version": "3.11.9"
  }
 },
 "nbformat": 4,
 "nbformat_minor": 5
}
