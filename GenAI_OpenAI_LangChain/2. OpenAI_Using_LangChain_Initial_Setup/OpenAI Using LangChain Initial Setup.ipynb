{
 "cells": [
  {
   "cell_type": "code",
   "execution_count": 1,
   "id": "5e766eb4-b091-47c5-b04a-afb19d02396c",
   "metadata": {},
   "outputs": [],
   "source": [
    "# pip install -qU langchain-openai"
   ]
  },
  {
   "cell_type": "code",
   "execution_count": 2,
   "id": "44e7364f-361a-4da2-b82f-fe7a54dfd02f",
   "metadata": {},
   "outputs": [
    {
     "data": {
      "text/plain": [
       "True"
      ]
     },
     "execution_count": 2,
     "metadata": {},
     "output_type": "execute_result"
    }
   ],
   "source": [
    "from dotenv import load_dotenv\n",
    "from langchain_openai import ChatOpenAI\n",
    "from langchain_core.messages import HumanMessage, SystemMessage\n",
    "from langchain_core.output_parsers import StrOutputParser\n",
    "\n",
    "load_dotenv()"
   ]
  },
  {
   "cell_type": "code",
   "execution_count": 3,
   "id": "6e17b2fa-8701-41c7-a06d-e801f5eb38e3",
   "metadata": {},
   "outputs": [],
   "source": [
    "model = ChatOpenAI(model=\"gpt-4o-mini\", temperature=2) # Set which model or any input params along with it"
   ]
  },
  {
   "cell_type": "code",
   "execution_count": 4,
   "id": "95de1a5c-15f4-401d-8831-bafc82a0fca9",
   "metadata": {},
   "outputs": [
    {
     "data": {
      "text/plain": [
       "AIMessage(content='Ciao, come stai?', additional_kwargs={'refusal': None}, response_metadata={'token_usage': {'completion_tokens': 7, 'prompt_tokens': 19, 'total_tokens': 26, 'completion_tokens_details': {'audio_tokens': None, 'reasoning_tokens': 0}, 'prompt_tokens_details': {'audio_tokens': None, 'cached_tokens': 0}}, 'model_name': 'gpt-4o-mini-2024-07-18', 'system_fingerprint': 'fp_482c22a7bc', 'finish_reason': 'stop', 'logprobs': None}, id='run-e73a1569-6c3b-4bf6-852a-365fb87886f5-0', usage_metadata={'input_tokens': 19, 'output_tokens': 7, 'total_tokens': 26, 'input_token_details': {'cache_read': 0}, 'output_token_details': {'reasoning': 0}})"
      ]
     },
     "execution_count": 4,
     "metadata": {},
     "output_type": "execute_result"
    }
   ],
   "source": [
    "messages = [\n",
    "    SystemMessage(content=\"Translate the following from English into Italian: hi how are you\"),\n",
    "]\n",
    "\n",
    "result = model.invoke(messages)\n",
    "result"
   ]
  },
  {
   "cell_type": "code",
   "execution_count": 5,
   "id": "f168ec4e-a479-408c-8494-b97dd1c3aae7",
   "metadata": {},
   "outputs": [],
   "source": [
    "parser = StrOutputParser() # Initializing parser to get content from AIMessage  "
   ]
  },
  {
   "cell_type": "code",
   "execution_count": 6,
   "id": "3da7b319-72a7-4aeb-aae8-1a0f62edff1e",
   "metadata": {},
   "outputs": [
    {
     "data": {
      "text/plain": [
       "'Ciao, come stai?'"
      ]
     },
     "execution_count": 6,
     "metadata": {},
     "output_type": "execute_result"
    }
   ],
   "source": [
    "parser.invoke(result)"
   ]
  },
  {
   "cell_type": "code",
   "execution_count": null,
   "id": "e5499aa9-0eaf-4898-a545-703d7d97b3ca",
   "metadata": {},
   "outputs": [],
   "source": []
  }
 ],
 "metadata": {
  "kernelspec": {
   "display_name": "Python 3 (ipykernel)",
   "language": "python",
   "name": "python3"
  },
  "language_info": {
   "codemirror_mode": {
    "name": "ipython",
    "version": 3
   },
   "file_extension": ".py",
   "mimetype": "text/x-python",
   "name": "python",
   "nbconvert_exporter": "python",
   "pygments_lexer": "ipython3",
   "version": "3.11.9"
  }
 },
 "nbformat": 4,
 "nbformat_minor": 5
}
