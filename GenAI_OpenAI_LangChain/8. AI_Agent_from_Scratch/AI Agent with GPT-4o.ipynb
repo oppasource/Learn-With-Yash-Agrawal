{
 "cells": [
  {
   "cell_type": "markdown",
   "id": "e5764ba2-125b-4129-9763-bef049e8f082",
   "metadata": {},
   "source": [
    "# AI Agent using GPT-4o"
   ]
  },
  {
   "cell_type": "code",
   "execution_count": 1,
   "id": "eda92a77-acc3-4cff-8a0d-127b97fbb746",
   "metadata": {},
   "outputs": [
    {
     "data": {
      "text/plain": [
       "True"
      ]
     },
     "execution_count": 1,
     "metadata": {},
     "output_type": "execute_result"
    }
   ],
   "source": [
    "import requests\n",
    "import re\n",
    "from openai import OpenAI\n",
    "from dotenv import load_dotenv\n",
    "\n",
    "load_dotenv()"
   ]
  },
  {
   "cell_type": "code",
   "execution_count": 2,
   "id": "b7701595-3ac4-44f8-a348-4ca874f020ce",
   "metadata": {},
   "outputs": [],
   "source": [
    "client = OpenAI()"
   ]
  },
  {
   "cell_type": "markdown",
   "id": "f4f09133-52b9-42b1-bf05-094bdca89cb6",
   "metadata": {},
   "source": [
    "# Tools"
   ]
  },
  {
   "cell_type": "code",
   "execution_count": 3,
   "id": "2613b3cf-c014-4b47-bc60-eebecdd43e81",
   "metadata": {},
   "outputs": [],
   "source": [
    "def search_product(product_query):\n",
    "    url = \"https://real-time-amazon-data.p.rapidapi.com/search\"\n",
    "\n",
    "    querystring = {\"query\":product_query,\n",
    "                   \"page\":\"1\",\n",
    "                   \"country\":\"US\",\n",
    "                   \"sort_by\":\"RELEVANCE\",\n",
    "                   \"product_condition\":\"ALL\",\n",
    "                   \"is_prime\":\"false\",\n",
    "                   \"deals_and_discounts\":\"NONE\"}\n",
    "    \n",
    "    headers = {\n",
    "    \t\"x-rapidapi-key\": \"beb3b7a15dmsh8e70c17e4fbf3f8p170668jsnc6a0049e6063\",\n",
    "    \t\"x-rapidapi-host\": \"real-time-amazon-data.p.rapidapi.com\"\n",
    "    }\n",
    "    \n",
    "    response = requests.get(url, headers=headers, params=querystring)\n",
    "    \n",
    "    return response.json()[\"data\"][\"products\"][:3]\n",
    "\n",
    "cart = []\n",
    "def add_to_cart(product_id, quantity):\n",
    "    global cart\n",
    "    cart.append({\"product_id\": product_id, \"quantity\": quantity})\n",
    "    return True\n",
    "\n",
    "def summarize_cart():\n",
    "    global cart\n",
    "    return cart\n",
    "\n",
    "def buy_product(payment_method):\n",
    "    global cart\n",
    "    if payment_method == \"COD\":\n",
    "        response = \"Order confirmation sent to registered email\"\n",
    "    else:\n",
    "        response = generate_payment_link(payment_method, cart)\n",
    "    return response\n",
    "\n",
    "# Util function\n",
    "def generate_payment_link(payment_method, cart):\n",
    "    # TODO: actually implement this function\n",
    "    return \"sample.link.com\""
   ]
  },
  {
   "cell_type": "markdown",
   "id": "53afe677-ae04-47e5-b9ec-dcd429adb6c6",
   "metadata": {},
   "source": [
    "# ReAct Prompt"
   ]
  },
  {
   "cell_type": "code",
   "execution_count": 4,
   "id": "057f8032-c1bc-4fbe-8f98-bd09132c0525",
   "metadata": {},
   "outputs": [],
   "source": [
    "react_prompt = \"\"\"You run in a loop of Thought, Action, PAUSE, Observation.\n",
    "At the end of the loop, you output an Answer.\n",
    "\n",
    "Use Thought to describe your thoughts about the question you have been asked.\n",
    "Use Action to run one of the actions available to you - then return PAUSE.\n",
    "Observation will be the result of running those actions.\n",
    "\n",
    "Your available actions are:\n",
    "```\n",
    "search_product:\n",
    "usage - search_product: <product_query: str>\n",
    "e.g. search_product: Samsung Galaxy\n",
    "Returns a list of products matching the given search query.\n",
    "\n",
    "add_to_cart:\n",
    "usage - add_to_cart: <product_id: str>, <quantity: int>\n",
    "e.g. add_to_cart: 1234, 2\n",
    "Adds the specified quantity of a product to the shopping cart. Returns confirmation if the product was added successfully.\n",
    "\n",
    "summarize_cart:\n",
    "usage - summarize_cart: null\n",
    "Returns the current items in the shopping cart including product IDs and quantities.\n",
    "\n",
    "buy_product:\n",
    "usage - buy_product: <payment_method: Enum[\"COD\", \"CreditCard\", \"DebitCard\", \"UPI\", \"NetBanking\"]>\n",
    "e.g. buy_product: COD\n",
    "Attempts to purchase all items in the cart with the specified payment method. Returns an order confirmation message or a payment link if the method is not COD.\n",
    "```\n",
    "\n",
    "Example session:\n",
    "```\n",
    "Question: I want to buy a Samsung Galaxy phone. Can you help?\n",
    "Thought: I should search for Samsung Galaxy phones.\n",
    "Action: search_product: Samsung Galaxy\n",
    "\n",
    "PAUSE\n",
    "\n",
    "Observation: The search returned products:\n",
    "- SAMSUNG Galaxy A15 5G A Series Cell Phone, 128GB Unlocked Android Smartphone, AMOLED Display, Expandable Storage, Knox Security, Super Fast Charging, Hi-Res Camera, US Version, 2024, Blue Black, Price: $199.99\n",
    "\n",
    "Answer: The search results for Samsung Galaxy phones have been displayed. If you want to add a product to the cart, please specify the product and the desired quantity.\n",
    "\n",
    "Question: Please add the SAMSUNG Galaxy A15 5G to the cart.\n",
    "Thought: The user requested to add the product to the cart but did not specify the quantity. I should clarify the quantity.\n",
    "Answer: How many units of the SAMSUNG Galaxy A15 5G would you like to add to the cart?\n",
    "\n",
    "Question: Add 2 units.\n",
    "Thought: The user specified the quantity. I will now add the product to the cart.\n",
    "Action: add_to_cart: 1234, 2\n",
    "\n",
    "PAUSE\n",
    "\n",
    "Observation: Product added to the cart successfully.\n",
    "\n",
    "Answer: The SAMSUNG Galaxy A15 5G has been added to the cart with quantity 2.\n",
    "```\n",
    "\"\"\""
   ]
  },
  {
   "cell_type": "markdown",
   "id": "42615d72-df51-4240-968c-a9736a781c2a",
   "metadata": {},
   "source": [
    "# Execution of ReAct Loop"
   ]
  },
  {
   "cell_type": "code",
   "execution_count": 5,
   "id": "e099c5b4-6e2a-4e6a-a6e6-3845c9122577",
   "metadata": {},
   "outputs": [],
   "source": [
    "known_actions = {\n",
    "    \"search_product\": search_product,\n",
    "    \"add_to_cart\": add_to_cart,\n",
    "    \"summarize_cart\": summarize_cart,\n",
    "    \"buy_product\": buy_product,  \n",
    "}"
   ]
  },
  {
   "cell_type": "code",
   "execution_count": 6,
   "id": "338188f1-7c25-43d5-9520-b2f38d189fc8",
   "metadata": {},
   "outputs": [],
   "source": [
    "action_re = re.compile('^Action: (\\w+): (.*)$')"
   ]
  },
  {
   "cell_type": "code",
   "execution_count": 7,
   "id": "d17acac0-ce2b-45c7-9a4c-edcae0db3b26",
   "metadata": {},
   "outputs": [],
   "source": [
    "def react_loop(question_messages, max_turns=5):\n",
    "    react_loop_history = []\n",
    "    i = 0\n",
    "    react_loop_messages = [{\"role\": \"system\", \"content\": react_prompt}] + question_messages\n",
    "    \n",
    "    while i < max_turns:\n",
    "        i += 1\n",
    "        result = client.chat.completions.create(\n",
    "                        model=\"gpt-4o\", \n",
    "                        messages=react_loop_messages)\n",
    "        result = result.choices[0].message.content\n",
    "        react_loop_messages.append({\"role\": \"assistant\", \"content\": result})\n",
    "        react_loop_history.append({\"role\": \"assistant\", \"content\": result})\n",
    "        \n",
    "        print(\"Result of calling the ReAct prompt loop: \", result)\n",
    "        \n",
    "        actions = [\n",
    "            action_re.match(a) \n",
    "            for a in result.split('\\n') \n",
    "            if action_re.match(a)\n",
    "        ]\n",
    "        if actions:\n",
    "            # There is an action to run\n",
    "            action, action_input = actions[0].groups()\n",
    "            \n",
    "            if action not in known_actions:\n",
    "                raise Exception(\"Unknown action: {}: {}\".format(action, action_input))\n",
    "            \n",
    "            print(\"Calling tool: {} with input: {}\".format(action, action_input))\n",
    "            action_input_list = [input.strip() for input in action_input.split(\",\") if input.strip() != \"null\"]\n",
    "            observation = known_actions[action](*action_input_list)\n",
    "            \n",
    "            print(\"Observation:\", observation)\n",
    "            observation_prompt = \"Observation: {}\".format(observation)\n",
    "            react_loop_messages.append({\"role\": \"user\", \"content\": observation_prompt})\n",
    "            react_loop_history.append({\"role\": \"user\", \"content\": observation_prompt})\n",
    "        else:\n",
    "            return result, react_loop_history"
   ]
  },
  {
   "cell_type": "markdown",
   "id": "c57b0ebe-b8fe-4331-b7c1-f221d516a221",
   "metadata": {},
   "source": [
    "# Chat without memory"
   ]
  },
  {
   "cell_type": "code",
   "execution_count": 8,
   "id": "55fe3096-e7fb-4f3a-ad0c-6269fadcb7f2",
   "metadata": {},
   "outputs": [],
   "source": [
    "def chat(user_query):\n",
    "    user_query_object = [{\"role\": \"user\", \"content\": user_query}]\n",
    "    print(\"======= Starting ReAct Loop =======\")\n",
    "    response, react_loop_history = react_loop(user_query_object)\n",
    "    print(\"======= Ending ReAct Loop =======\\n\\n\")\n",
    "    response = response.split(\"Answer:\")[-1].strip()\n",
    "    return response"
   ]
  },
  {
   "cell_type": "code",
   "execution_count": 9,
   "id": "5a3f1986-7d22-4c77-96b6-fa4d6c3f1317",
   "metadata": {},
   "outputs": [
    {
     "name": "stdout",
     "output_type": "stream",
     "text": [
      "======= Starting ReAct Loop =======\n",
      "Result of calling the ReAct prompt loop:  Thought: I should search for pants to find available options that the user might be interested in purchasing.\n",
      "Action: search_product: pants\n",
      "Calling tool: search_product with input: pants\n",
      "Observation: [{'asin': 'B0BTRMKQW5', 'product_title': 'Wrangler Authentics Men&#x27;s Relaxed Fit Stretch Cargo Pant', 'product_price': '$25.24', 'product_original_price': None, 'currency': 'USD', 'product_star_rating': '4.5', 'product_num_ratings': 22495, 'product_url': 'https://www.amazon.com/dp/B0BTRMKQW5', 'product_photo': 'https://m.media-amazon.com/images/I/61HP4BFFzFL._AC_UL960_FMwebp_QL65_.jpg', 'product_num_offers': 1, 'product_minimum_offer_price': '$25.24', 'is_best_seller': True, 'is_amazon_choice': False, 'is_prime': True, 'climate_pledge_friendly': False, 'sales_volume': '500+ bought in past month', 'delivery': 'FREE delivery Wed, Jan 15 on $35 of items shipped by Amazon', 'has_variations': True, 'product_badge': 'Best Seller'}, {'asin': 'B06XWMJH3K', 'product_title': 'Amazon Essentials Men&#x27;s Classic-Fit Wrinkle-Resistant Flat-Front Chino Pant (Available in Big &amp; Tall)', 'product_price': '$3.24', 'product_original_price': None, 'currency': 'USD', 'product_star_rating': '4.2', 'product_num_ratings': 56430, 'product_url': 'https://www.amazon.com/dp/B06XWMJH3K', 'product_photo': 'https://m.media-amazon.com/images/I/71De-IPZoeL._AC_UL960_FMwebp_QL65_.jpg', 'product_num_offers': 1, 'product_minimum_offer_price': '$3.24', 'is_best_seller': False, 'is_amazon_choice': False, 'is_prime': False, 'climate_pledge_friendly': True, 'sales_volume': '3K+ bought in past month', 'delivery': None, 'has_variations': True}, {'asin': 'B0D572M7XB', 'product_title': 'Trendy Queen Women&#x27;s Wide Leg Yoga Pants Bootcut Workout Flare Leggings Trendy High Waisted Fold Over 2024 Fall Outfits', 'product_price': '$19.99', 'product_original_price': '$29.99', 'currency': 'USD', 'product_star_rating': '4.2', 'product_num_ratings': 370, 'product_url': 'https://www.amazon.com/dp/B0D572M7XB', 'product_photo': 'https://m.media-amazon.com/images/I/51Z7gDdFoNL._AC_UL960_FMwebp_QL65_.jpg', 'product_num_offers': 1, 'product_minimum_offer_price': '$19.99', 'is_best_seller': False, 'is_amazon_choice': False, 'is_prime': True, 'climate_pledge_friendly': False, 'sales_volume': '900+ bought in past month', 'delivery': 'FREE delivery Thu, Jan 16 on $35 of items shipped by Amazon', 'has_variations': True}]\n",
      "Result of calling the ReAct prompt loop:  Answer: Here are some options for pants that you can consider:\n",
      "\n",
      "1. **Wrangler Authentics Men's Relaxed Fit Stretch Cargo Pant**  \n",
      "   - Price: $25.24\n",
      "   - Rating: 4.5 stars (22,495 ratings)\n",
      "   - Best Seller, Prime Eligible\n",
      "   - [Product Link](https://www.amazon.com/dp/B0BTRMKQW5)\n",
      "   - ![Image](https://m.media-amazon.com/images/I/61HP4BFFzFL._AC_UL960_FMwebp_QL65_.jpg)\n",
      "\n",
      "2. **Amazon Essentials Men's Classic-Fit Wrinkle-Resistant Flat-Front Chino Pant**  \n",
      "   - Price: $3.24\n",
      "   - Rating: 4.2 stars (56,430 ratings)\n",
      "   - Climate Pledge Friendly\n",
      "   - [Product Link](https://www.amazon.com/dp/B06XWMJH3K)\n",
      "   - ![Image](https://m.media-amazon.com/images/I/71De-IPZoeL._AC_UL960_FMwebp_QL65_.jpg)\n",
      "\n",
      "3. **Trendy Queen Women's Wide Leg Yoga Pants Bootcut Workout Flare Leggings**  \n",
      "   - Price: $19.99 (originally $29.99)\n",
      "   - Rating: 4.2 stars (370 ratings)\n",
      "   - Prime Eligible\n",
      "   - [Product Link](https://www.amazon.com/dp/B0D572M7XB)\n",
      "   - ![Image](https://m.media-amazon.com/images/I/51Z7gDdFoNL._AC_UL960_FMwebp_QL65_.jpg)\n",
      "\n",
      "Please specify which pair of pants you are interested in or if you want to add any of them to your cart with the desired quantity.\n",
      "======= Ending ReAct Loop =======\n",
      "\n",
      "\n",
      "Here are some options for pants that you can consider:\n",
      "\n",
      "1. **Wrangler Authentics Men's Relaxed Fit Stretch Cargo Pant**  \n",
      "   - Price: $25.24\n",
      "   - Rating: 4.5 stars (22,495 ratings)\n",
      "   - Best Seller, Prime Eligible\n",
      "   - [Product Link](https://www.amazon.com/dp/B0BTRMKQW5)\n",
      "   - ![Image](https://m.media-amazon.com/images/I/61HP4BFFzFL._AC_UL960_FMwebp_QL65_.jpg)\n",
      "\n",
      "2. **Amazon Essentials Men's Classic-Fit Wrinkle-Resistant Flat-Front Chino Pant**  \n",
      "   - Price: $3.24\n",
      "   - Rating: 4.2 stars (56,430 ratings)\n",
      "   - Climate Pledge Friendly\n",
      "   - [Product Link](https://www.amazon.com/dp/B06XWMJH3K)\n",
      "   - ![Image](https://m.media-amazon.com/images/I/71De-IPZoeL._AC_UL960_FMwebp_QL65_.jpg)\n",
      "\n",
      "3. **Trendy Queen Women's Wide Leg Yoga Pants Bootcut Workout Flare Leggings**  \n",
      "   - Price: $19.99 (originally $29.99)\n",
      "   - Rating: 4.2 stars (370 ratings)\n",
      "   - Prime Eligible\n",
      "   - [Product Link](https://www.amazon.com/dp/B0D572M7XB)\n",
      "   - ![Image](https://m.media-amazon.com/images/I/51Z7gDdFoNL._AC_UL960_FMwebp_QL65_.jpg)\n",
      "\n",
      "Please specify which pair of pants you are interested in or if you want to add any of them to your cart with the desired quantity.\n"
     ]
    }
   ],
   "source": [
    "result = chat(\"i want to buy pair of pants\")\n",
    "print(result)"
   ]
  },
  {
   "cell_type": "code",
   "execution_count": 10,
   "id": "f1e33b96-1790-4349-b38f-99a1484a1ea2",
   "metadata": {},
   "outputs": [
    {
     "name": "stdout",
     "output_type": "stream",
     "text": [
      "======= Starting ReAct Loop =======\n",
      "Result of calling the ReAct prompt loop:  Thought: The user wants to buy the second item in the cart. First, I need to check the contents of the cart to identify the second item.\n",
      "Action: summarize_cart: null\n",
      "Calling tool: summarize_cart with input: null\n",
      "Observation: []\n",
      "Result of calling the ReAct prompt loop:  Thought: The cart is currently empty, so there is no \"second item\" to purchase. I should inform the user that the cart is empty and assist them in finding and adding a product to the cart if needed. \n",
      "\n",
      "Answer: Your shopping cart is currently empty. If you would like to purchase something, please let me know which product you're interested in, and I can help you add it to your cart.\n",
      "======= Ending ReAct Loop =======\n",
      "\n",
      "\n",
      "Your shopping cart is currently empty. If you would like to purchase something, please let me know which product you're interested in, and I can help you add it to your cart.\n"
     ]
    }
   ],
   "source": [
    "result = chat(\"buy the second one\")\n",
    "print(result)"
   ]
  },
  {
   "cell_type": "markdown",
   "id": "c745d9ab-78ba-44cc-bbc9-cce4ca373649",
   "metadata": {},
   "source": [
    "# Chat with memory"
   ]
  },
  {
   "cell_type": "code",
   "execution_count": 11,
   "id": "f8968a1e-4c8d-4caa-9e3d-123e1d9101e6",
   "metadata": {},
   "outputs": [],
   "source": [
    "messages = []\n",
    "\n",
    "def chat(user_query):\n",
    "    global messages\n",
    "    messages.append({\"role\": \"user\", \"content\": user_query})\n",
    "    \n",
    "    print(\"======= Starting ReAct Loop =======\")\n",
    "    response, react_loop_history = react_loop(messages)\n",
    "    print(\"======= Ending ReAct Loop =======\\n\\n\")\n",
    "    \n",
    "    messages += react_loop_history\n",
    "    \n",
    "    response = response.split(\"Answer:\")[-1].strip()\n",
    "    return response"
   ]
  },
  {
   "cell_type": "code",
   "execution_count": 12,
   "id": "e1af61ab-d40d-4f1f-bcef-00e52ce67e15",
   "metadata": {},
   "outputs": [
    {
     "name": "stdout",
     "output_type": "stream",
     "text": [
      "======= Starting ReAct Loop =======\n",
      "Result of calling the ReAct prompt loop:  Thought: I need to search for blue shirts to help the user find a product they might like to purchase.\n",
      "Action: search_product: blue shirt\n",
      "Calling tool: search_product with input: blue shirt\n",
      "Observation: [{'asin': 'B00NOY3AEW', 'product_title': 'Hanes Men&#x27;s Beefy-T T-Shirt, Heavyweight Cotton Tee, 1 Or 2 Pack, Big &amp; Tall Sizes Available', 'product_price': '$8.56', 'product_original_price': '$14.00', 'currency': 'USD', 'product_star_rating': '4.5', 'product_num_ratings': 59046, 'product_url': 'https://www.amazon.com/dp/B00NOY3AEW', 'product_photo': 'https://m.media-amazon.com/images/I/71jWbUuXHbL._AC_UL960_FMwebp_QL65_.jpg', 'product_num_offers': 1, 'product_minimum_offer_price': '$8.56', 'is_best_seller': False, 'is_amazon_choice': False, 'is_prime': True, 'climate_pledge_friendly': True, 'sales_volume': '500+ bought in past month', 'delivery': 'FREE delivery Wed, Jan 15 on $35 of items shipped by Amazon', 'has_variations': True}, {'asin': 'B0713Y47LJ', 'product_title': 'Russell Athletic Men&#x27;s Dri-Power Cotton Blend Short Sleeve Tees, Moisture Wicking, Odor Protection, UPF 30+, Sizes S-4x', 'product_price': '$8.18', 'product_original_price': '$10.99', 'currency': 'USD', 'product_star_rating': '4.5', 'product_num_ratings': 37339, 'product_url': 'https://www.amazon.com/dp/B0713Y47LJ', 'product_photo': 'https://m.media-amazon.com/images/I/71Ri5ZJxCtL._AC_UL960_FMwebp_QL65_.jpg', 'product_num_offers': 1, 'product_minimum_offer_price': '$8.18', 'is_best_seller': False, 'is_amazon_choice': False, 'is_prime': True, 'climate_pledge_friendly': True, 'sales_volume': '200+ bought in past month', 'delivery': 'FREE delivery Wed, Jan 15 on $35 of items shipped by Amazon', 'has_variations': True}, {'asin': 'B07MGYCGY1', 'product_title': 'Gildan Unisex Adult Dryblend T-Shirt, Style G8000, Multipack', 'product_price': '$10.63', 'product_original_price': '$14.49', 'currency': 'USD', 'product_star_rating': '4.5', 'product_num_ratings': 14814, 'product_url': 'https://www.amazon.com/dp/B07MGYCGY1', 'product_photo': 'https://m.media-amazon.com/images/I/719zXVC8RuL._AC_UL960_FMwebp_QL65_.jpg', 'product_num_offers': 1, 'product_minimum_offer_price': '$10.63', 'is_best_seller': False, 'is_amazon_choice': False, 'is_prime': True, 'climate_pledge_friendly': True, 'sales_volume': '50+ bought in past month', 'delivery': 'FREE delivery Wed, Jan 15 on $35 of items shipped by Amazon', 'has_variations': True}]\n",
      "Result of calling the ReAct prompt loop:  Here are some options for blue shirts that you might be interested in:\n",
      "\n",
      "1. **Hanes Men's Beefy-T T-Shirt, Heavyweight Cotton Tee, 1 Or 2 Pack, Big & Tall Sizes Available**\n",
      "   - Price: $8.56 (originally $14.00)\n",
      "   - Rating: 4.5 stars (59,046 ratings)\n",
      "   - [View on Amazon](https://www.amazon.com/dp/B00NOY3AEW)\n",
      "\n",
      "2. **Russell Athletic Men's Dri-Power Cotton Blend Short Sleeve Tees, Moisture Wicking**\n",
      "   - Price: $8.18 (originally $10.99)\n",
      "   - Rating: 4.5 stars (37,339 ratings)\n",
      "   - [View on Amazon](https://www.amazon.com/dp/B0713Y47LJ)\n",
      "\n",
      "3. **Gildan Unisex Adult Dryblend T-Shirt, Style G8000, Multipack**\n",
      "   - Price: $10.63 (originally $14.49)\n",
      "   - Rating: 4.5 stars (14,814 ratings)\n",
      "   - [View on Amazon](https://www.amazon.com/dp/B07MGYCGY1)\n",
      "\n",
      "Please let me know if you would like to add any of these products to your cart, and specify the quantity.\n",
      "======= Ending ReAct Loop =======\n",
      "\n",
      "\n",
      "Here are some options for blue shirts that you might be interested in:\n",
      "\n",
      "1. **Hanes Men's Beefy-T T-Shirt, Heavyweight Cotton Tee, 1 Or 2 Pack, Big & Tall Sizes Available**\n",
      "   - Price: $8.56 (originally $14.00)\n",
      "   - Rating: 4.5 stars (59,046 ratings)\n",
      "   - [View on Amazon](https://www.amazon.com/dp/B00NOY3AEW)\n",
      "\n",
      "2. **Russell Athletic Men's Dri-Power Cotton Blend Short Sleeve Tees, Moisture Wicking**\n",
      "   - Price: $8.18 (originally $10.99)\n",
      "   - Rating: 4.5 stars (37,339 ratings)\n",
      "   - [View on Amazon](https://www.amazon.com/dp/B0713Y47LJ)\n",
      "\n",
      "3. **Gildan Unisex Adult Dryblend T-Shirt, Style G8000, Multipack**\n",
      "   - Price: $10.63 (originally $14.49)\n",
      "   - Rating: 4.5 stars (14,814 ratings)\n",
      "   - [View on Amazon](https://www.amazon.com/dp/B07MGYCGY1)\n",
      "\n",
      "Please let me know if you would like to add any of these products to your cart, and specify the quantity.\n"
     ]
    }
   ],
   "source": [
    "result = chat(\"i want to buy a shirt, maybe blue in colour\")\n",
    "print(result)"
   ]
  },
  {
   "cell_type": "code",
   "execution_count": 13,
   "id": "aea3ec08-6c8d-4c2b-b03e-64a01379528f",
   "metadata": {},
   "outputs": [
    {
     "data": {
      "text/plain": [
       "[{'role': 'user', 'content': 'i want to buy a shirt, maybe blue in colour'},\n",
       " {'role': 'assistant',\n",
       "  'content': 'Thought: I need to search for blue shirts to help the user find a product they might like to purchase.\\nAction: search_product: blue shirt'},\n",
       " {'role': 'user',\n",
       "  'content': \"Observation: [{'asin': 'B00NOY3AEW', 'product_title': 'Hanes Men&#x27;s Beefy-T T-Shirt, Heavyweight Cotton Tee, 1 Or 2 Pack, Big &amp; Tall Sizes Available', 'product_price': '$8.56', 'product_original_price': '$14.00', 'currency': 'USD', 'product_star_rating': '4.5', 'product_num_ratings': 59046, 'product_url': 'https://www.amazon.com/dp/B00NOY3AEW', 'product_photo': 'https://m.media-amazon.com/images/I/71jWbUuXHbL._AC_UL960_FMwebp_QL65_.jpg', 'product_num_offers': 1, 'product_minimum_offer_price': '$8.56', 'is_best_seller': False, 'is_amazon_choice': False, 'is_prime': True, 'climate_pledge_friendly': True, 'sales_volume': '500+ bought in past month', 'delivery': 'FREE delivery Wed, Jan 15 on $35 of items shipped by Amazon', 'has_variations': True}, {'asin': 'B0713Y47LJ', 'product_title': 'Russell Athletic Men&#x27;s Dri-Power Cotton Blend Short Sleeve Tees, Moisture Wicking, Odor Protection, UPF 30+, Sizes S-4x', 'product_price': '$8.18', 'product_original_price': '$10.99', 'currency': 'USD', 'product_star_rating': '4.5', 'product_num_ratings': 37339, 'product_url': 'https://www.amazon.com/dp/B0713Y47LJ', 'product_photo': 'https://m.media-amazon.com/images/I/71Ri5ZJxCtL._AC_UL960_FMwebp_QL65_.jpg', 'product_num_offers': 1, 'product_minimum_offer_price': '$8.18', 'is_best_seller': False, 'is_amazon_choice': False, 'is_prime': True, 'climate_pledge_friendly': True, 'sales_volume': '200+ bought in past month', 'delivery': 'FREE delivery Wed, Jan 15 on $35 of items shipped by Amazon', 'has_variations': True}, {'asin': 'B07MGYCGY1', 'product_title': 'Gildan Unisex Adult Dryblend T-Shirt, Style G8000, Multipack', 'product_price': '$10.63', 'product_original_price': '$14.49', 'currency': 'USD', 'product_star_rating': '4.5', 'product_num_ratings': 14814, 'product_url': 'https://www.amazon.com/dp/B07MGYCGY1', 'product_photo': 'https://m.media-amazon.com/images/I/719zXVC8RuL._AC_UL960_FMwebp_QL65_.jpg', 'product_num_offers': 1, 'product_minimum_offer_price': '$10.63', 'is_best_seller': False, 'is_amazon_choice': False, 'is_prime': True, 'climate_pledge_friendly': True, 'sales_volume': '50+ bought in past month', 'delivery': 'FREE delivery Wed, Jan 15 on $35 of items shipped by Amazon', 'has_variations': True}]\"},\n",
       " {'role': 'assistant',\n",
       "  'content': \"Here are some options for blue shirts that you might be interested in:\\n\\n1. **Hanes Men's Beefy-T T-Shirt, Heavyweight Cotton Tee, 1 Or 2 Pack, Big & Tall Sizes Available**\\n   - Price: $8.56 (originally $14.00)\\n   - Rating: 4.5 stars (59,046 ratings)\\n   - [View on Amazon](https://www.amazon.com/dp/B00NOY3AEW)\\n\\n2. **Russell Athletic Men's Dri-Power Cotton Blend Short Sleeve Tees, Moisture Wicking**\\n   - Price: $8.18 (originally $10.99)\\n   - Rating: 4.5 stars (37,339 ratings)\\n   - [View on Amazon](https://www.amazon.com/dp/B0713Y47LJ)\\n\\n3. **Gildan Unisex Adult Dryblend T-Shirt, Style G8000, Multipack**\\n   - Price: $10.63 (originally $14.49)\\n   - Rating: 4.5 stars (14,814 ratings)\\n   - [View on Amazon](https://www.amazon.com/dp/B07MGYCGY1)\\n\\nPlease let me know if you would like to add any of these products to your cart, and specify the quantity.\"}]"
      ]
     },
     "execution_count": 13,
     "metadata": {},
     "output_type": "execute_result"
    }
   ],
   "source": [
    "messages"
   ]
  },
  {
   "cell_type": "code",
   "execution_count": 14,
   "id": "81da9bbb-304b-4caa-837d-209c92a93741",
   "metadata": {},
   "outputs": [
    {
     "name": "stdout",
     "output_type": "stream",
     "text": [
      "======= Starting ReAct Loop =======\n",
      "Result of calling the ReAct prompt loop:  Thought: The user wants to add the third product (Gildan Unisex Adult Dryblend T-Shirt) to the cart, but they have not specified the quantity. I should ask for the quantity.\n",
      "Answer: How many units of the Gildan Unisex Adult Dryblend T-Shirt would you like to add to your cart?\n",
      "======= Ending ReAct Loop =======\n",
      "\n",
      "\n",
      "How many units of the Gildan Unisex Adult Dryblend T-Shirt would you like to add to your cart?\n"
     ]
    }
   ],
   "source": [
    "result = chat(\"lets add third one\")\n",
    "print(result)"
   ]
  },
  {
   "cell_type": "code",
   "execution_count": 15,
   "id": "f6f3ab8a-4f8b-492d-8457-bf4f09ce379a",
   "metadata": {},
   "outputs": [
    {
     "name": "stdout",
     "output_type": "stream",
     "text": [
      "======= Starting ReAct Loop =======\n",
      "Result of calling the ReAct prompt loop:  Action: add_to_cart: B07MGYCGY1, 2\n",
      "Calling tool: add_to_cart with input: B07MGYCGY1, 2\n",
      "Observation: True\n",
      "Result of calling the ReAct prompt loop:  Answer: The Gildan Unisex Adult Dryblend T-Shirt has been successfully added to your cart with a quantity of 2. Would you like to proceed with the purchase or need anything else?\n",
      "======= Ending ReAct Loop =======\n",
      "\n",
      "\n",
      "The Gildan Unisex Adult Dryblend T-Shirt has been successfully added to your cart with a quantity of 2. Would you like to proceed with the purchase or need anything else?\n"
     ]
    }
   ],
   "source": [
    "result = chat(\"2\")\n",
    "print(result)"
   ]
  },
  {
   "cell_type": "code",
   "execution_count": 17,
   "id": "95d8d750-0512-4d8d-817d-f6eecf65f6e0",
   "metadata": {},
   "outputs": [
    {
     "data": {
      "text/plain": [
       "[{'role': 'user', 'content': 'i want to buy a shirt, maybe blue in colour'},\n",
       " {'role': 'assistant',\n",
       "  'content': 'Thought: I need to search for blue shirts to help the user find a product they might like to purchase.\\nAction: search_product: blue shirt'},\n",
       " {'role': 'user',\n",
       "  'content': \"Observation: [{'asin': 'B00NOY3AEW', 'product_title': 'Hanes Men&#x27;s Beefy-T T-Shirt, Heavyweight Cotton Tee, 1 Or 2 Pack, Big &amp; Tall Sizes Available', 'product_price': '$8.56', 'product_original_price': '$14.00', 'currency': 'USD', 'product_star_rating': '4.5', 'product_num_ratings': 59046, 'product_url': 'https://www.amazon.com/dp/B00NOY3AEW', 'product_photo': 'https://m.media-amazon.com/images/I/71jWbUuXHbL._AC_UL960_FMwebp_QL65_.jpg', 'product_num_offers': 1, 'product_minimum_offer_price': '$8.56', 'is_best_seller': False, 'is_amazon_choice': False, 'is_prime': True, 'climate_pledge_friendly': True, 'sales_volume': '500+ bought in past month', 'delivery': 'FREE delivery Wed, Jan 15 on $35 of items shipped by Amazon', 'has_variations': True}, {'asin': 'B0713Y47LJ', 'product_title': 'Russell Athletic Men&#x27;s Dri-Power Cotton Blend Short Sleeve Tees, Moisture Wicking, Odor Protection, UPF 30+, Sizes S-4x', 'product_price': '$8.18', 'product_original_price': '$10.99', 'currency': 'USD', 'product_star_rating': '4.5', 'product_num_ratings': 37339, 'product_url': 'https://www.amazon.com/dp/B0713Y47LJ', 'product_photo': 'https://m.media-amazon.com/images/I/71Ri5ZJxCtL._AC_UL960_FMwebp_QL65_.jpg', 'product_num_offers': 1, 'product_minimum_offer_price': '$8.18', 'is_best_seller': False, 'is_amazon_choice': False, 'is_prime': True, 'climate_pledge_friendly': True, 'sales_volume': '200+ bought in past month', 'delivery': 'FREE delivery Wed, Jan 15 on $35 of items shipped by Amazon', 'has_variations': True}, {'asin': 'B07MGYCGY1', 'product_title': 'Gildan Unisex Adult Dryblend T-Shirt, Style G8000, Multipack', 'product_price': '$10.63', 'product_original_price': '$14.49', 'currency': 'USD', 'product_star_rating': '4.5', 'product_num_ratings': 14814, 'product_url': 'https://www.amazon.com/dp/B07MGYCGY1', 'product_photo': 'https://m.media-amazon.com/images/I/719zXVC8RuL._AC_UL960_FMwebp_QL65_.jpg', 'product_num_offers': 1, 'product_minimum_offer_price': '$10.63', 'is_best_seller': False, 'is_amazon_choice': False, 'is_prime': True, 'climate_pledge_friendly': True, 'sales_volume': '50+ bought in past month', 'delivery': 'FREE delivery Wed, Jan 15 on $35 of items shipped by Amazon', 'has_variations': True}]\"},\n",
       " {'role': 'assistant',\n",
       "  'content': \"Here are some options for blue shirts that you might be interested in:\\n\\n1. **Hanes Men's Beefy-T T-Shirt, Heavyweight Cotton Tee, 1 Or 2 Pack, Big & Tall Sizes Available**\\n   - Price: $8.56 (originally $14.00)\\n   - Rating: 4.5 stars (59,046 ratings)\\n   - [View on Amazon](https://www.amazon.com/dp/B00NOY3AEW)\\n\\n2. **Russell Athletic Men's Dri-Power Cotton Blend Short Sleeve Tees, Moisture Wicking**\\n   - Price: $8.18 (originally $10.99)\\n   - Rating: 4.5 stars (37,339 ratings)\\n   - [View on Amazon](https://www.amazon.com/dp/B0713Y47LJ)\\n\\n3. **Gildan Unisex Adult Dryblend T-Shirt, Style G8000, Multipack**\\n   - Price: $10.63 (originally $14.49)\\n   - Rating: 4.5 stars (14,814 ratings)\\n   - [View on Amazon](https://www.amazon.com/dp/B07MGYCGY1)\\n\\nPlease let me know if you would like to add any of these products to your cart, and specify the quantity.\"},\n",
       " {'role': 'user', 'content': 'lets add third one'},\n",
       " {'role': 'assistant',\n",
       "  'content': 'Thought: The user wants to add the third product (Gildan Unisex Adult Dryblend T-Shirt) to the cart, but they have not specified the quantity. I should ask for the quantity.\\nAnswer: How many units of the Gildan Unisex Adult Dryblend T-Shirt would you like to add to your cart?'},\n",
       " {'role': 'user', 'content': '2'},\n",
       " {'role': 'assistant', 'content': 'Action: add_to_cart: B07MGYCGY1, 2'},\n",
       " {'role': 'user', 'content': 'Observation: True'},\n",
       " {'role': 'assistant',\n",
       "  'content': 'Answer: The Gildan Unisex Adult Dryblend T-Shirt has been successfully added to your cart with a quantity of 2. Would you like to proceed with the purchase or need anything else?'}]"
      ]
     },
     "execution_count": 17,
     "metadata": {},
     "output_type": "execute_result"
    }
   ],
   "source": [
    "messages"
   ]
  },
  {
   "cell_type": "code",
   "execution_count": 18,
   "id": "5aff02e5-9c4e-404e-9e94-a4d96e43ca71",
   "metadata": {},
   "outputs": [
    {
     "data": {
      "text/plain": [
       "[{'product_id': 'B07MGYCGY1', 'quantity': '2'}]"
      ]
     },
     "execution_count": 18,
     "metadata": {},
     "output_type": "execute_result"
    }
   ],
   "source": [
    "cart"
   ]
  },
  {
   "cell_type": "code",
   "execution_count": 19,
   "id": "11c17797-124a-447f-9afd-222c1d20e0c8",
   "metadata": {},
   "outputs": [
    {
     "name": "stdout",
     "output_type": "stream",
     "text": [
      "======= Starting ReAct Loop =======\n",
      "Result of calling the ReAct prompt loop:  Action: add_to_cart: B00NOY3AEW, 1\n",
      "Calling tool: add_to_cart with input: B00NOY3AEW, 1\n",
      "Observation: True\n",
      "Result of calling the ReAct prompt loop:  Answer: The Hanes Men's Beefy-T T-Shirt has been successfully added to your cart with a quantity of 1. Would you like to proceed with the purchase or is there anything else you need?\n",
      "======= Ending ReAct Loop =======\n",
      "\n",
      "\n",
      "The Hanes Men's Beefy-T T-Shirt has been successfully added to your cart with a quantity of 1. Would you like to proceed with the purchase or is there anything else you need?\n"
     ]
    }
   ],
   "source": [
    "result = chat(\"actually lets add first one as well with 1 quantity\")\n",
    "print(result)"
   ]
  },
  {
   "cell_type": "code",
   "execution_count": 20,
   "id": "49577971-b4d3-4e6e-b1e5-2655b8becd86",
   "metadata": {},
   "outputs": [
    {
     "name": "stdout",
     "output_type": "stream",
     "text": [
      "======= Starting ReAct Loop =======\n",
      "Result of calling the ReAct prompt loop:  Action: summarize_cart: null\n",
      "Calling tool: summarize_cart with input: null\n",
      "Observation: [{'product_id': 'B07MGYCGY1', 'quantity': '2'}, {'product_id': 'B00NOY3AEW', 'quantity': '1'}]\n",
      "Result of calling the ReAct prompt loop:  Answer: Your cart currently contains the following items:\n",
      "\n",
      "1. **Gildan Unisex Adult Dryblend T-Shirt**\n",
      "   - Quantity: 2\n",
      "\n",
      "2. **Hanes Men's Beefy-T T-Shirt**\n",
      "   - Quantity: 1\n",
      "\n",
      "If you would like to proceed with the purchase or make any changes, please let me know!\n",
      "======= Ending ReAct Loop =======\n",
      "\n",
      "\n",
      "Your cart currently contains the following items:\n",
      "\n",
      "1. **Gildan Unisex Adult Dryblend T-Shirt**\n",
      "   - Quantity: 2\n",
      "\n",
      "2. **Hanes Men's Beefy-T T-Shirt**\n",
      "   - Quantity: 1\n",
      "\n",
      "If you would like to proceed with the purchase or make any changes, please let me know!\n"
     ]
    }
   ],
   "source": [
    "result = chat(\"what all is there in my cart\")\n",
    "print(result)"
   ]
  },
  {
   "cell_type": "code",
   "execution_count": 21,
   "id": "0c1dc96b-a9f1-4754-b374-a06a1e00d0f3",
   "metadata": {},
   "outputs": [
    {
     "name": "stdout",
     "output_type": "stream",
     "text": [
      "======= Starting ReAct Loop =======\n",
      "Result of calling the ReAct prompt loop:  Thought: The user wants to proceed with purchasing the items in the cart. I need to confirm the payment method they would like to use.\n",
      "Answer: Which payment method would you like to use for the purchase? You can choose from the following options: Cash on Delivery (COD), Credit Card, Debit Card, UPI, or Net Banking.\n",
      "======= Ending ReAct Loop =======\n",
      "\n",
      "\n",
      "Which payment method would you like to use for the purchase? You can choose from the following options: Cash on Delivery (COD), Credit Card, Debit Card, UPI, or Net Banking.\n"
     ]
    }
   ],
   "source": [
    "result = chat(\"lets checkout\")\n",
    "print(result)"
   ]
  },
  {
   "cell_type": "code",
   "execution_count": 22,
   "id": "36aefe89-61dd-4743-92d9-413d9c329e87",
   "metadata": {},
   "outputs": [
    {
     "name": "stdout",
     "output_type": "stream",
     "text": [
      "======= Starting ReAct Loop =======\n",
      "Result of calling the ReAct prompt loop:  Action: buy_product: NetBanking\n",
      "Calling tool: buy_product with input: NetBanking\n",
      "Observation: sample.link.com\n",
      "Result of calling the ReAct prompt loop:  Answer: Your purchase has been initiated successfully. Please complete the payment using the following link: [Payment Link](sample.link.com). If you need any further assistance, feel free to ask. Thank you for shopping with us!\n",
      "======= Ending ReAct Loop =======\n",
      "\n",
      "\n",
      "Your purchase has been initiated successfully. Please complete the payment using the following link: [Payment Link](sample.link.com). If you need any further assistance, feel free to ask. Thank you for shopping with us!\n"
     ]
    }
   ],
   "source": [
    "result = chat(\"net bank\")\n",
    "print(result)"
   ]
  },
  {
   "cell_type": "code",
   "execution_count": 23,
   "id": "2acdd3c1-84c9-4f9e-b8ca-d4d7337c8e13",
   "metadata": {},
   "outputs": [],
   "source": [
    "messages = []"
   ]
  },
  {
   "cell_type": "code",
   "execution_count": 24,
   "id": "9817f990-4afc-4bff-8885-310d11c63e06",
   "metadata": {},
   "outputs": [
    {
     "name": "stdout",
     "output_type": "stream",
     "text": [
      "======= Starting ReAct Loop =======\n",
      "Result of calling the ReAct prompt loop:  Thought: I need to search for shirts first in order to find suitable options for the user to purchase. Then, I'll add the desired number of shirts to the cart and proceed with a cash on delivery purchase. Let's start by searching for shirts. \n",
      "Action: search_product: shirt\n",
      "Calling tool: search_product with input: shirt\n",
      "Observation: [{'asin': 'B08F2P8CS9', 'product_title': 'Fruit of the Loom Men&#x27;s Eversoft Cotton Stay Tucked Crew T-shirt', 'product_price': '$18.61', 'product_original_price': None, 'currency': 'USD', 'product_star_rating': '4.6', 'product_num_ratings': 130884, 'product_url': 'https://www.amazon.com/dp/B08F2P8CS9', 'product_photo': 'https://m.media-amazon.com/images/I/71GX5QGOKsL._AC_UL960_FMwebp_QL65_.jpg', 'product_num_offers': 1, 'product_minimum_offer_price': '$18.61', 'is_best_seller': True, 'is_amazon_choice': False, 'is_prime': True, 'climate_pledge_friendly': True, 'sales_volume': '6K+ bought in past month', 'delivery': 'FREE delivery Fri, Jan 17 on $35 of items shipped by Amazon', 'has_variations': True, 'product_badge': 'Best Seller'}, {'asin': 'B07JBS5BJQ', 'product_title': 'Gildan Men&#x27;s Crew T-Shirts, Multipack, Style G1100', 'product_price': '$21.97', 'product_original_price': None, 'currency': 'USD', 'product_star_rating': '4.6', 'product_num_ratings': 302634, 'product_url': 'https://www.amazon.com/dp/B07JBS5BJQ', 'product_photo': 'https://m.media-amazon.com/images/I/51wDsZxtTLL._AC_UL960_FMwebp_QL65_.jpg', 'product_num_offers': 1, 'product_minimum_offer_price': '$21.97', 'is_best_seller': True, 'is_amazon_choice': False, 'is_prime': True, 'climate_pledge_friendly': True, 'sales_volume': '4K+ bought in past month', 'delivery': 'FREE delivery Wed, Jan 15 on $35 of items shipped by Amazon', 'has_variations': True, 'product_badge': 'Best Seller'}, {'asin': 'B002GHC19I', 'product_title': 'Carhartt Men&#x27;s Loose Fit Heavyweight Short-Sleeve Pocket T-Shirt', 'product_price': '$19.99', 'product_original_price': None, 'currency': 'USD', 'product_star_rating': '4.6', 'product_num_ratings': 113820, 'product_url': 'https://www.amazon.com/dp/B002GHC19I', 'product_photo': 'https://m.media-amazon.com/images/I/814hp8QMsjL._AC_UL960_FMwebp_QL65_.jpg', 'product_num_offers': 1, 'product_minimum_offer_price': '$19.99', 'is_best_seller': True, 'is_amazon_choice': False, 'is_prime': True, 'climate_pledge_friendly': False, 'sales_volume': '5K+ bought in past month', 'delivery': 'FREE delivery Wed, Jan 15 on $35 of items shipped by Amazon', 'has_variations': True, 'product_badge': 'Best Seller'}]\n",
      "Result of calling the ReAct prompt loop:  Thought: Three shirt options were found. I need to add two shirts to the cart. I will choose the first two options which are 'Fruit of the Loom Men's Eversoft Cotton Stay Tucked Crew T-shirt' and 'Gildan Men's Crew T-Shirts, Multipack, Style G1100'. I will add one of each to the cart to fulfill the request for a total of two shirts, and then proceed to buy them using cash on delivery.\n",
      "\n",
      "Action: add_to_cart: B08F2P8CS9, 1\n",
      "Calling tool: add_to_cart with input: B08F2P8CS9, 1\n",
      "Observation: True\n",
      "Result of calling the ReAct prompt loop:  Action: add_to_cart: B07JBS5BJQ, 1\n",
      "Calling tool: add_to_cart with input: B07JBS5BJQ, 1\n",
      "Observation: True\n",
      "Result of calling the ReAct prompt loop:  Thought: Both shirts have been successfully added to the cart. Now, I need to proceed with the purchase using cash on delivery.\n",
      "\n",
      "Action: buy_product: COD\n",
      "Calling tool: buy_product with input: COD\n",
      "Observation: Order confirmation sent to registered email\n",
      "Result of calling the ReAct prompt loop:  Answer: The two shirts have been successfully purchased with cash on delivery. An order confirmation has been sent to your registered email.\n",
      "======= Ending ReAct Loop =======\n",
      "\n",
      "\n",
      "The two shirts have been successfully purchased with cash on delivery. An order confirmation has been sent to your registered email.\n"
     ]
    }
   ],
   "source": [
    "result = chat(\"buy 2 shirts with cash on delivery\")\n",
    "print(result)"
   ]
  },
  {
   "cell_type": "code",
   "execution_count": null,
   "id": "4f904a54-f62e-45f3-ac41-cacd960fa325",
   "metadata": {},
   "outputs": [],
   "source": []
  }
 ],
 "metadata": {
  "kernelspec": {
   "display_name": "Python 3 (ipykernel)",
   "language": "python",
   "name": "python3"
  },
  "language_info": {
   "codemirror_mode": {
    "name": "ipython",
    "version": 3
   },
   "file_extension": ".py",
   "mimetype": "text/x-python",
   "name": "python",
   "nbconvert_exporter": "python",
   "pygments_lexer": "ipython3",
   "version": "3.11.9"
  }
 },
 "nbformat": 4,
 "nbformat_minor": 5
}
