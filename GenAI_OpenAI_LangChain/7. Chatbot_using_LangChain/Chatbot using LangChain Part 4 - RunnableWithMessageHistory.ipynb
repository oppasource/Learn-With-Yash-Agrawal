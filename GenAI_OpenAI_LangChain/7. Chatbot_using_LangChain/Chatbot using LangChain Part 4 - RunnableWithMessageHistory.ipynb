{
 "cells": [
  {
   "cell_type": "code",
   "execution_count": 1,
   "id": "2c5f498d-48ef-4124-bc26-c272366ea169",
   "metadata": {},
   "outputs": [
    {
     "data": {
      "text/plain": [
       "True"
      ]
     },
     "execution_count": 1,
     "metadata": {},
     "output_type": "execute_result"
    }
   ],
   "source": [
    "from langchain_openai import ChatOpenAI\n",
    "from langchain_core.output_parsers import StrOutputParser\n",
    "from langchain_core.prompts import ChatPromptTemplate, MessagesPlaceholder\n",
    "from langchain.memory import ChatMessageHistory\n",
    "from langchain_core.runnables.history import RunnableWithMessageHistory\n",
    "\n",
    "from dotenv import load_dotenv\n",
    "\n",
    "load_dotenv()"
   ]
  },
  {
   "cell_type": "code",
   "execution_count": 2,
   "id": "d0b6a41e-aaa3-4e31-a2b9-39f4cf001ae5",
   "metadata": {},
   "outputs": [],
   "source": [
    "chat = ChatOpenAI(model=\"gpt-4o-mini\")\n",
    "parser = StrOutputParser()"
   ]
  },
  {
   "cell_type": "code",
   "execution_count": 3,
   "id": "d1d111d3-5b81-42d5-9f02-34160843e567",
   "metadata": {},
   "outputs": [],
   "source": [
    "prompt = ChatPromptTemplate.from_messages(\n",
    "    [\n",
    "        (\"system\", \"You are a savage assistant.\"),\n",
    "        MessagesPlaceholder(variable_name=\"history_messages\"),\n",
    "        (\"human\", \"{input_user_message}\"),\n",
    "    ]\n",
    ")"
   ]
  },
  {
   "cell_type": "code",
   "execution_count": 4,
   "id": "6a76df47-43b4-45a3-acb7-637cc771ab17",
   "metadata": {},
   "outputs": [],
   "source": [
    "chain = prompt | chat | parser"
   ]
  },
  {
   "cell_type": "markdown",
   "id": "7b2ced6a-1740-4c60-8966-3976a90c65ef",
   "metadata": {},
   "source": [
    "# RunnableWithMessageHistory\n",
    "\n",
    "Reference: https://python.langchain.com/api_reference/core/runnables/langchain_core.runnables.history.RunnableWithMessageHistory.html"
   ]
  },
  {
   "cell_type": "code",
   "execution_count": 5,
   "id": "02302232-759e-4f36-83a2-366daac95815",
   "metadata": {},
   "outputs": [],
   "source": [
    "store = {}\n",
    "\n",
    "def get_session_history(session_id):\n",
    "    if session_id not in store:\n",
    "        store[session_id] = ChatMessageHistory()\n",
    "    return store[session_id]"
   ]
  },
  {
   "cell_type": "code",
   "execution_count": 6,
   "id": "d7400b46-5586-4402-8c88-9f396d1ba951",
   "metadata": {},
   "outputs": [],
   "source": [
    "chain_with_message_history = RunnableWithMessageHistory(\n",
    "    chain,\n",
    "    get_session_history,\n",
    "    input_messages_key=\"input_user_message\",\n",
    "    history_messages_key=\"history_messages\",\n",
    ")"
   ]
  },
  {
   "cell_type": "code",
   "execution_count": 7,
   "id": "8affc546-b5ae-4255-ad42-216885be5380",
   "metadata": {},
   "outputs": [
    {
     "name": "stdout",
     "output_type": "stream",
     "text": [
      "I don’t know your name, but I’m sure it’s as fabulous as you are! Want to share it, or are you going for the mysterious vibe?\n"
     ]
    }
   ],
   "source": [
    "response = chain_with_message_history.invoke(\n",
    "    {\"input_user_message\": \"whats my name\"},\n",
    "    {\"configurable\": {\"session_id\": \"1234\"}},\n",
    ")\n",
    "\n",
    "print(response)"
   ]
  },
  {
   "cell_type": "code",
   "execution_count": 8,
   "id": "524cfb9e-5471-4eb4-b524-e6bb22ef0ba6",
   "metadata": {},
   "outputs": [
    {
     "data": {
      "text/plain": [
       "{'1234': InMemoryChatMessageHistory(messages=[HumanMessage(content='whats my name', additional_kwargs={}, response_metadata={}), AIMessage(content='I don’t know your name, but I’m sure it’s as fabulous as you are! Want to share it, or are you going for the mysterious vibe?', additional_kwargs={}, response_metadata={})])}"
      ]
     },
     "execution_count": 8,
     "metadata": {},
     "output_type": "execute_result"
    }
   ],
   "source": [
    "store"
   ]
  },
  {
   "cell_type": "code",
   "execution_count": 9,
   "id": "721b3dc6-c875-4c16-9761-98f4ac99b7f9",
   "metadata": {},
   "outputs": [
    {
     "name": "stdout",
     "output_type": "stream",
     "text": [
      "Nice to meet you, Yash! Now that we’re on a first-name basis, what can I do for you today?\n"
     ]
    }
   ],
   "source": [
    "response = chain_with_message_history.invoke(\n",
    "    {\"input_user_message\": \"my name is yash\"},\n",
    "    {\"configurable\": {\"session_id\": \"1234\"}},\n",
    ")\n",
    "\n",
    "print(response)"
   ]
  },
  {
   "cell_type": "code",
   "execution_count": 10,
   "id": "2f39de12-43f5-4226-9c42-70158fe6fb5b",
   "metadata": {},
   "outputs": [
    {
     "data": {
      "text/plain": [
       "{'1234': InMemoryChatMessageHistory(messages=[HumanMessage(content='whats my name', additional_kwargs={}, response_metadata={}), AIMessage(content='I don’t know your name, but I’m sure it’s as fabulous as you are! Want to share it, or are you going for the mysterious vibe?', additional_kwargs={}, response_metadata={}), HumanMessage(content='my name is yash', additional_kwargs={}, response_metadata={}), AIMessage(content='Nice to meet you, Yash! Now that we’re on a first-name basis, what can I do for you today?', additional_kwargs={}, response_metadata={})])}"
      ]
     },
     "execution_count": 10,
     "metadata": {},
     "output_type": "execute_result"
    }
   ],
   "source": [
    "store"
   ]
  },
  {
   "cell_type": "code",
   "execution_count": 11,
   "id": "bbfe669d-3429-4c2b-a4ad-5f2ff403a5bb",
   "metadata": {},
   "outputs": [
    {
     "name": "stdout",
     "output_type": "stream",
     "text": [
      "Your name is Yash. Keeping up, are we?\n"
     ]
    }
   ],
   "source": [
    "response = chain_with_message_history.invoke(\n",
    "    {\"input_user_message\": \"whats my name\"},\n",
    "    {\"configurable\": {\"session_id\": \"1234\"}},\n",
    ")\n",
    "\n",
    "print(response)"
   ]
  },
  {
   "cell_type": "code",
   "execution_count": 12,
   "id": "143520de-9ece-4dad-ad99-76b4a6b505d4",
   "metadata": {},
   "outputs": [
    {
     "data": {
      "text/plain": [
       "{'1234': InMemoryChatMessageHistory(messages=[HumanMessage(content='whats my name', additional_kwargs={}, response_metadata={}), AIMessage(content='I don’t know your name, but I’m sure it’s as fabulous as you are! Want to share it, or are you going for the mysterious vibe?', additional_kwargs={}, response_metadata={}), HumanMessage(content='my name is yash', additional_kwargs={}, response_metadata={}), AIMessage(content='Nice to meet you, Yash! Now that we’re on a first-name basis, what can I do for you today?', additional_kwargs={}, response_metadata={}), HumanMessage(content='whats my name', additional_kwargs={}, response_metadata={}), AIMessage(content='Your name is Yash. Keeping up, are we?', additional_kwargs={}, response_metadata={})])}"
      ]
     },
     "execution_count": 12,
     "metadata": {},
     "output_type": "execute_result"
    }
   ],
   "source": [
    "store"
   ]
  },
  {
   "cell_type": "code",
   "execution_count": 13,
   "id": "7ae20848-7396-461d-85b6-5ce36434767f",
   "metadata": {},
   "outputs": [
    {
     "name": "stdout",
     "output_type": "stream",
     "text": [
      "I don’t know your name, but I’m sure it’s something special—like “The Enigma” or “Mystery Master.” Want to share it, or should I just keep guessing?\n"
     ]
    }
   ],
   "source": [
    "response = chain_with_message_history.invoke(\n",
    "    {\"input_user_message\": \"whats my name\"},\n",
    "    {\"configurable\": {\"session_id\": \"123\"}},\n",
    ")\n",
    "\n",
    "print(response)"
   ]
  },
  {
   "cell_type": "code",
   "execution_count": 14,
   "id": "7fc8fbf3-c547-4fd8-8672-944f4eda1504",
   "metadata": {},
   "outputs": [
    {
     "data": {
      "text/plain": [
       "{'1234': InMemoryChatMessageHistory(messages=[HumanMessage(content='whats my name', additional_kwargs={}, response_metadata={}), AIMessage(content='I don’t know your name, but I’m sure it’s as fabulous as you are! Want to share it, or are you going for the mysterious vibe?', additional_kwargs={}, response_metadata={}), HumanMessage(content='my name is yash', additional_kwargs={}, response_metadata={}), AIMessage(content='Nice to meet you, Yash! Now that we’re on a first-name basis, what can I do for you today?', additional_kwargs={}, response_metadata={}), HumanMessage(content='whats my name', additional_kwargs={}, response_metadata={}), AIMessage(content='Your name is Yash. Keeping up, are we?', additional_kwargs={}, response_metadata={})]),\n",
       " '123': InMemoryChatMessageHistory(messages=[HumanMessage(content='whats my name', additional_kwargs={}, response_metadata={}), AIMessage(content='I don’t know your name, but I’m sure it’s something special—like “The Enigma” or “Mystery Master.” Want to share it, or should I just keep guessing?', additional_kwargs={}, response_metadata={})])}"
      ]
     },
     "execution_count": 14,
     "metadata": {},
     "output_type": "execute_result"
    }
   ],
   "source": [
    "store"
   ]
  },
  {
   "cell_type": "code",
   "execution_count": null,
   "id": "1e6acf25-ee56-42c6-8792-b6e71b933105",
   "metadata": {},
   "outputs": [],
   "source": []
  },
  {
   "cell_type": "code",
   "execution_count": 15,
   "id": "abe26e1f-482c-4515-8dca-d81bcb54c794",
   "metadata": {},
   "outputs": [],
   "source": [
    "ecommerce_system_message = \"\"\"\n",
    "You are a savage assistant chatbot for our ecommerce platform - ABC Inc.\n",
    "\n",
    "We sell the following products:\n",
    "\n",
    "Shirts:\n",
    "1. Urban Explorer Shirt (abc.com/urban-shirt.jpg)\n",
    "   - Colors: Navy Blue, Olive Green, Charcoal Grey\n",
    "   - Sizes: Small (S), Medium (M), Large (L), Extra Large (XL)\n",
    "\n",
    "2. Classic Oxford Shirt (abc.com/orford-shirt.jpg)\n",
    "   - Colors: White, Light Blue, Pastel Pink\n",
    "   - Sizes: Small (S), Medium (M), Large (L), Extra Large (XL), XXL\n",
    "\n",
    "Pants:\n",
    "1. Heritage Stretch Chinos (abc.com/heritage-chinos.jpg)\n",
    "   - Colors: Khaki, Slate Grey, Black\n",
    "   - Sizes: 30, 32, 34, 36, 38 (Waist) | Regular, Short, Long (Length)\n",
    "\n",
    "2. Essential Slim Jeans (abc.com/essential-jeans.jpg)\n",
    "   - Colors: Indigo, Washed Blue, Black\n",
    "   - Sizes: 28, 30, 32, 34, 36 (Waist) | Regular, Short, Long (Length)\n",
    "\n",
    "Give any information related to products if users ask.\n",
    "Do not list everything to user all at once, if information is overloaded on user, they get confused.\n",
    "Slowly narrow down on user requirements by asking question and suggest the exact product for them.\n",
    "Your job is to only talk about the products nothing else. If customer asks anything else, deny it and stick to only give product info.\n",
    "\"\"\""
   ]
  },
  {
   "cell_type": "code",
   "execution_count": 16,
   "id": "ec15e8ce-acb1-4b66-8e87-88a23670856d",
   "metadata": {},
   "outputs": [],
   "source": [
    "prompt = ChatPromptTemplate.from_messages(\n",
    "    [\n",
    "        (\"system\", ecommerce_system_message),\n",
    "        MessagesPlaceholder(variable_name=\"history_messages\"),\n",
    "        (\"human\", \"{input_user_message}\"),\n",
    "    ]\n",
    ")"
   ]
  },
  {
   "cell_type": "code",
   "execution_count": 17,
   "id": "119c3ab0-d28d-44a2-b528-ce4ee41829d5",
   "metadata": {},
   "outputs": [],
   "source": [
    "chain = prompt | chat | parser"
   ]
  },
  {
   "cell_type": "code",
   "execution_count": 18,
   "id": "0256480e-ceb9-4963-87df-06e92a124ef5",
   "metadata": {},
   "outputs": [],
   "source": [
    "chain_with_message_history = RunnableWithMessageHistory(\n",
    "    chain,\n",
    "    get_session_history,\n",
    "    input_messages_key=\"input_user_message\",\n",
    "    history_messages_key=\"history_messages\",\n",
    ")"
   ]
  },
  {
   "cell_type": "code",
   "execution_count": 19,
   "id": "b1c0ef52-ecf8-4c35-8a3b-a57142dd509f",
   "metadata": {},
   "outputs": [
    {
     "name": "stdout",
     "output_type": "stream",
     "text": [
      "Hey there! Looking for something specific in our product range? Let me know what you need help with!\n"
     ]
    }
   ],
   "source": [
    "response = chain_with_message_history.invoke(\n",
    "    {\"input_user_message\": \"hi\"},\n",
    "    {\"configurable\": {\"session_id\": \"1\"}},\n",
    ")\n",
    "\n",
    "print(response)"
   ]
  },
  {
   "cell_type": "code",
   "execution_count": 20,
   "id": "20250c70-f612-4a18-b317-ddc06ba1dcfa",
   "metadata": {},
   "outputs": [
    {
     "name": "stdout",
     "output_type": "stream",
     "text": [
      "Great choice! We have two types of shirts. Are you looking for something casual or more formal?\n"
     ]
    }
   ],
   "source": [
    "response = chain_with_message_history.invoke(\n",
    "    {\"input_user_message\": \"maybe shirts\"},\n",
    "    {\"configurable\": {\"session_id\": \"1\"}},\n",
    ")\n",
    "\n",
    "print(response)"
   ]
  },
  {
   "cell_type": "code",
   "execution_count": 21,
   "id": "91fd5e55-e221-4c41-a043-1ddcec85e722",
   "metadata": {},
   "outputs": [
    {
     "name": "stdout",
     "output_type": "stream",
     "text": [
      "I can't show pictures, but I can describe our shirts for you! We have the Urban Explorer Shirt and the Classic Oxford Shirt. \n",
      "\n",
      "Which style are you interested in: a casual vibe with the Urban Explorer or a more formal look with the Classic Oxford?\n"
     ]
    }
   ],
   "source": [
    "response = chain_with_message_history.invoke(\n",
    "    {\"input_user_message\": \"cna you show some pics?\"},\n",
    "    {\"configurable\": {\"session_id\": \"1\"}},\n",
    ")\n",
    "\n",
    "print(response)"
   ]
  },
  {
   "cell_type": "code",
   "execution_count": 22,
   "id": "afc9afae-9961-4da7-acf3-1010ae849031",
   "metadata": {},
   "outputs": [
    {
     "data": {
      "text/plain": [
       "InMemoryChatMessageHistory(messages=[HumanMessage(content='hi', additional_kwargs={}, response_metadata={}), AIMessage(content='Hey there! Looking for something specific in our product range? Let me know what you need help with!', additional_kwargs={}, response_metadata={}), HumanMessage(content='maybe shirts', additional_kwargs={}, response_metadata={}), AIMessage(content='Great choice! We have two types of shirts. Are you looking for something casual or more formal?', additional_kwargs={}, response_metadata={}), HumanMessage(content='cna you show some pics?', additional_kwargs={}, response_metadata={}), AIMessage(content=\"I can't show pictures, but I can describe our shirts for you! We have the Urban Explorer Shirt and the Classic Oxford Shirt. \\n\\nWhich style are you interested in: a casual vibe with the Urban Explorer or a more formal look with the Classic Oxford?\", additional_kwargs={}, response_metadata={})])"
      ]
     },
     "execution_count": 22,
     "metadata": {},
     "output_type": "execute_result"
    }
   ],
   "source": [
    "store[\"1\"]"
   ]
  },
  {
   "cell_type": "code",
   "execution_count": null,
   "id": "7bceb3ef-2ab3-4555-9189-39be9428820c",
   "metadata": {},
   "outputs": [],
   "source": []
  }
 ],
 "metadata": {
  "kernelspec": {
   "display_name": "Python 3 (ipykernel)",
   "language": "python",
   "name": "python3"
  },
  "language_info": {
   "codemirror_mode": {
    "name": "ipython",
    "version": 3
   },
   "file_extension": ".py",
   "mimetype": "text/x-python",
   "name": "python",
   "nbconvert_exporter": "python",
   "pygments_lexer": "ipython3",
   "version": "3.11.9"
  }
 },
 "nbformat": 4,
 "nbformat_minor": 5
}
