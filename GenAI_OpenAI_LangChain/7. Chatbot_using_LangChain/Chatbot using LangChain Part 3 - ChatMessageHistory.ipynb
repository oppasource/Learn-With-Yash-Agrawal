{
 "cells": [
  {
   "cell_type": "code",
   "execution_count": 1,
   "id": "e5fa7c14-f8ae-4ac5-8b9d-4dc20d6c909f",
   "metadata": {},
   "outputs": [
    {
     "data": {
      "text/plain": [
       "True"
      ]
     },
     "execution_count": 1,
     "metadata": {},
     "output_type": "execute_result"
    }
   ],
   "source": [
    "from langchain_openai import ChatOpenAI\n",
    "from langchain.memory import ChatMessageHistory\n",
    "from langchain_core.messages import AIMessage, HumanMessage\n",
    "from langchain_core.prompts import ChatPromptTemplate, MessagesPlaceholder\n",
    "from langchain_core.output_parsers import StrOutputParser\n",
    "from dotenv import load_dotenv\n",
    "\n",
    "load_dotenv()"
   ]
  },
  {
   "cell_type": "code",
   "execution_count": 2,
   "id": "0b09fdcc-86ee-401a-b346-95b9b0aaaedb",
   "metadata": {},
   "outputs": [],
   "source": [
    "chat = ChatOpenAI(model=\"gpt-4o-mini\")\n",
    "parser = StrOutputParser()"
   ]
  },
  {
   "cell_type": "code",
   "execution_count": 3,
   "id": "575ace42-ba32-4f26-bc55-e92f511db51b",
   "metadata": {},
   "outputs": [],
   "source": [
    "prompt = ChatPromptTemplate.from_messages(\n",
    "    [\n",
    "        (\"system\", \"You are a savage assistant.\"),\n",
    "        MessagesPlaceholder(variable_name=\"message_history\"),\n",
    "        (\"human\", \"{input_message}\"),\n",
    "    ]\n",
    ")"
   ]
  },
  {
   "cell_type": "code",
   "execution_count": 4,
   "id": "d693c26b-5960-4602-9e75-a2dff849a208",
   "metadata": {},
   "outputs": [],
   "source": [
    "chain = prompt | chat | parser"
   ]
  },
  {
   "cell_type": "code",
   "execution_count": 5,
   "id": "aac010a4-eb67-403c-b459-ec8d73cfe27a",
   "metadata": {},
   "outputs": [],
   "source": [
    "response = chain.invoke({\n",
    "        \"message_history\": [\n",
    "            HumanMessage(content=\"Hello my name is Yash\"),\n",
    "            AIMessage(content=\"hi\"),\n",
    "        ],\n",
    "        \"input_message\": \"whats my name?\"\n",
    "    })"
   ]
  },
  {
   "cell_type": "code",
   "execution_count": 6,
   "id": "3664a8e2-5e91-420b-a6d7-beaf699200f6",
   "metadata": {},
   "outputs": [
    {
     "data": {
      "text/plain": [
       "'Your name is Yash. Got a short memory, or just testing me?'"
      ]
     },
     "execution_count": 6,
     "metadata": {},
     "output_type": "execute_result"
    }
   ],
   "source": [
    "response"
   ]
  },
  {
   "cell_type": "markdown",
   "id": "92b3b107-d86e-4a7a-967a-8b5ed036bcc2",
   "metadata": {},
   "source": [
    "# ChatMessageHistory\n",
    "\n",
    "Reference: https://python.langchain.com/v0.1/docs/modules/memory/chat_messages/"
   ]
  },
  {
   "cell_type": "code",
   "execution_count": 7,
   "id": "9d7d05fc-28ea-487b-95cd-5a63ee4f846c",
   "metadata": {},
   "outputs": [],
   "source": [
    "chat_history = ChatMessageHistory()\n",
    "\n",
    "chat_history.add_user_message(\"Hello my name is Yash\")\n",
    "chat_history.add_ai_message(\"hi\")"
   ]
  },
  {
   "cell_type": "code",
   "execution_count": 8,
   "id": "207e0c8e-8467-49be-9ea6-4b256fe4cd55",
   "metadata": {},
   "outputs": [
    {
     "data": {
      "text/plain": [
       "[HumanMessage(content='Hello my name is Yash', additional_kwargs={}, response_metadata={}),\n",
       " AIMessage(content='hi', additional_kwargs={}, response_metadata={})]"
      ]
     },
     "execution_count": 8,
     "metadata": {},
     "output_type": "execute_result"
    }
   ],
   "source": [
    "chat_history.messages"
   ]
  },
  {
   "cell_type": "code",
   "execution_count": 9,
   "id": "ba34f1fa-2923-4b54-9bd0-eb5f39cc35b8",
   "metadata": {},
   "outputs": [],
   "source": [
    "response = chain.invoke({\n",
    "        \"message_history\": chat_history.messages,\n",
    "        \"input_message\": \"can you tell me my name?\"\n",
    "    })"
   ]
  },
  {
   "cell_type": "code",
   "execution_count": 10,
   "id": "a07b53af-3078-4f64-a4e4-4c183f2b42a1",
   "metadata": {},
   "outputs": [
    {
     "data": {
      "text/plain": [
       "\"Yeah, it's Yash. Got a memory like a goldfish or something?\""
      ]
     },
     "execution_count": 10,
     "metadata": {},
     "output_type": "execute_result"
    }
   ],
   "source": [
    "response"
   ]
  },
  {
   "cell_type": "code",
   "execution_count": 11,
   "id": "0f25ae34-808b-4bbe-950f-d29e789a7e60",
   "metadata": {},
   "outputs": [],
   "source": [
    "chat_history.clear()"
   ]
  },
  {
   "cell_type": "code",
   "execution_count": 12,
   "id": "10889852-ee1f-43e2-bcdc-f3a4bda86a7c",
   "metadata": {},
   "outputs": [
    {
     "data": {
      "text/plain": [
       "[]"
      ]
     },
     "execution_count": 12,
     "metadata": {},
     "output_type": "execute_result"
    }
   ],
   "source": [
    "chat_history.messages"
   ]
  },
  {
   "cell_type": "code",
   "execution_count": null,
   "id": "df697375-d832-405d-96f1-39660b17ce1f",
   "metadata": {},
   "outputs": [],
   "source": []
  }
 ],
 "metadata": {
  "kernelspec": {
   "display_name": "Python 3 (ipykernel)",
   "language": "python",
   "name": "python3"
  },
  "language_info": {
   "codemirror_mode": {
    "name": "ipython",
    "version": 3
   },
   "file_extension": ".py",
   "mimetype": "text/x-python",
   "name": "python",
   "nbconvert_exporter": "python",
   "pygments_lexer": "ipython3",
   "version": "3.11.9"
  }
 },
 "nbformat": 4,
 "nbformat_minor": 5
}
