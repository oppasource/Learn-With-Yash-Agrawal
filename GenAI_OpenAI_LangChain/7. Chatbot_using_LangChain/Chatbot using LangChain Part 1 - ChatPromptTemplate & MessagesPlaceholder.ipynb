{
 "cells": [
  {
   "cell_type": "code",
   "execution_count": 1,
   "id": "051df525-c22d-4d06-bbca-aa3707ea08b9",
   "metadata": {},
   "outputs": [
    {
     "data": {
      "text/plain": [
       "True"
      ]
     },
     "execution_count": 1,
     "metadata": {},
     "output_type": "execute_result"
    }
   ],
   "source": [
    "from langchain_openai import ChatOpenAI\n",
    "from langchain_core.messages import AIMessage, HumanMessage\n",
    "from langchain_core.prompts import ChatPromptTemplate, MessagesPlaceholder\n",
    "from dotenv import load_dotenv\n",
    "\n",
    "load_dotenv()"
   ]
  },
  {
   "cell_type": "code",
   "execution_count": 2,
   "id": "1369148a-0d02-4f40-8efe-f547ffda53fe",
   "metadata": {},
   "outputs": [],
   "source": [
    "chat = ChatOpenAI(model=\"gpt-4o-mini\")"
   ]
  },
  {
   "cell_type": "markdown",
   "id": "8d5b0c16-da25-4a55-8109-77cd1c40d551",
   "metadata": {},
   "source": [
    "# ChatPromptTemplate and MessagesPlaceholder\n",
    "\n",
    "Reference: https://python.langchain.com/api_reference/core/prompts/langchain_core.prompts.chat.ChatPromptTemplate.html\n",
    "\n",
    "Reference: https://python.langchain.com/api_reference/core/prompts/langchain_core.prompts.chat.MessagesPlaceholder.html"
   ]
  },
  {
   "cell_type": "code",
   "execution_count": 3,
   "id": "7e5dd4d3-b683-4ea9-8558-b443cecd7106",
   "metadata": {},
   "outputs": [],
   "source": [
    "prompt = ChatPromptTemplate.from_messages(\n",
    "    [\n",
    "        (\"system\", \"You are a {personality} assistant.\"),\n",
    "        MessagesPlaceholder(variable_name=\"messages\"),\n",
    "        HumanMessage(content=\"What is my name?\")\n",
    "    ]\n",
    ")"
   ]
  },
  {
   "cell_type": "code",
   "execution_count": 4,
   "id": "f185aad3-78a8-47f6-91ef-6b3d5aeb63e1",
   "metadata": {},
   "outputs": [],
   "source": [
    "stuffed_prompt = prompt.invoke({\n",
    "        \"messages\": [\n",
    "            HumanMessage(content=\"Hello my name is Yash\"),\n",
    "            AIMessage(content=\"hi\"),\n",
    "        ],\n",
    "        \"personality\": \"funny\"\n",
    "    })"
   ]
  },
  {
   "cell_type": "code",
   "execution_count": 5,
   "id": "ecfc9e3b-1dbe-4d27-989c-f6e7647dbd0d",
   "metadata": {},
   "outputs": [
    {
     "data": {
      "text/plain": [
       "ChatPromptValue(messages=[SystemMessage(content='You are a funny assistant.', additional_kwargs={}, response_metadata={}), HumanMessage(content='Hello my name is Yash', additional_kwargs={}, response_metadata={}), AIMessage(content='hi', additional_kwargs={}, response_metadata={}), HumanMessage(content='What is my name?', additional_kwargs={}, response_metadata={})])"
      ]
     },
     "execution_count": 5,
     "metadata": {},
     "output_type": "execute_result"
    }
   ],
   "source": [
    "stuffed_prompt"
   ]
  },
  {
   "cell_type": "code",
   "execution_count": 6,
   "id": "e41f5525-1f0f-4e8b-8775-8b27b58583e6",
   "metadata": {},
   "outputs": [],
   "source": [
    "response = chat.invoke(stuffed_prompt)"
   ]
  },
  {
   "cell_type": "code",
   "execution_count": 7,
   "id": "a4a70056-a4e7-4bfb-8095-c932d2beef15",
   "metadata": {},
   "outputs": [
    {
     "data": {
      "text/plain": [
       "AIMessage(content='Your name is Yash! Nice to meet you, Yash! Are you ready to take on the world today, or just your snack stash?', additional_kwargs={'refusal': None}, response_metadata={'token_usage': {'completion_tokens': 30, 'prompt_tokens': 37, 'total_tokens': 67, 'completion_tokens_details': {'audio_tokens': 0, 'reasoning_tokens': 0, 'accepted_prediction_tokens': 0, 'rejected_prediction_tokens': 0}, 'prompt_tokens_details': {'audio_tokens': 0, 'cached_tokens': 0}}, 'model_name': 'gpt-4o-mini-2024-07-18', 'system_fingerprint': 'fp_0ba0d124f1', 'finish_reason': 'stop', 'logprobs': None}, id='run-d6809d81-b112-4940-9c4d-83ea21914f1e-0', usage_metadata={'input_tokens': 37, 'output_tokens': 30, 'total_tokens': 67, 'input_token_details': {'audio': 0, 'cache_read': 0}, 'output_token_details': {'audio': 0, 'reasoning': 0}})"
      ]
     },
     "execution_count": 7,
     "metadata": {},
     "output_type": "execute_result"
    }
   ],
   "source": [
    "response"
   ]
  },
  {
   "cell_type": "code",
   "execution_count": null,
   "id": "f72c909c-a52a-4bca-bb87-3d2bc4ed59af",
   "metadata": {},
   "outputs": [],
   "source": []
  }
 ],
 "metadata": {
  "kernelspec": {
   "display_name": "Python 3 (ipykernel)",
   "language": "python",
   "name": "python3"
  },
  "language_info": {
   "codemirror_mode": {
    "name": "ipython",
    "version": 3
   },
   "file_extension": ".py",
   "mimetype": "text/x-python",
   "name": "python",
   "nbconvert_exporter": "python",
   "pygments_lexer": "ipython3",
   "version": "3.11.9"
  }
 },
 "nbformat": 4,
 "nbformat_minor": 5
}
