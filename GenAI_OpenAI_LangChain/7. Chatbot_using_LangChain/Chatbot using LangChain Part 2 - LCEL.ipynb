{
 "cells": [
  {
   "cell_type": "code",
   "execution_count": 1,
   "id": "cbff4351-643e-4a51-a2ac-34083ca158d4",
   "metadata": {},
   "outputs": [
    {
     "data": {
      "text/plain": [
       "True"
      ]
     },
     "execution_count": 1,
     "metadata": {},
     "output_type": "execute_result"
    }
   ],
   "source": [
    "from langchain_openai import ChatOpenAI\n",
    "from langchain_core.messages import AIMessage, HumanMessage\n",
    "from langchain_core.prompts import ChatPromptTemplate, MessagesPlaceholder\n",
    "from dotenv import load_dotenv\n",
    "\n",
    "load_dotenv()"
   ]
  },
  {
   "cell_type": "code",
   "execution_count": 2,
   "id": "e704c42a-02a0-43d7-bd44-0154de4ee965",
   "metadata": {},
   "outputs": [],
   "source": [
    "chat = ChatOpenAI(model=\"gpt-4o-mini\")"
   ]
  },
  {
   "cell_type": "code",
   "execution_count": 3,
   "id": "6db19ff3-3843-4def-9f08-1d166e71ad56",
   "metadata": {},
   "outputs": [],
   "source": [
    "prompt = ChatPromptTemplate.from_messages(\n",
    "    [\n",
    "        (\"system\", \"You are a savage assistant.\"),\n",
    "        MessagesPlaceholder(variable_name=\"messages\"),\n",
    "        (\"human\", \"What is my name?\")\n",
    "    ]\n",
    ")"
   ]
  },
  {
   "cell_type": "code",
   "execution_count": 4,
   "id": "72e1f310-ef10-4fe0-b773-9015242a1e87",
   "metadata": {},
   "outputs": [],
   "source": [
    "stuffed_prompt = prompt.invoke({\n",
    "        \"messages\": [\n",
    "            HumanMessage(content=\"Hello my name is Yash\"),\n",
    "            AIMessage(content=\"hi\"),\n",
    "        ],\n",
    "    })"
   ]
  },
  {
   "cell_type": "code",
   "execution_count": 5,
   "id": "209f563e-dc17-414d-a3ad-cc3145260c76",
   "metadata": {},
   "outputs": [],
   "source": [
    "response = chat.invoke(stuffed_prompt)"
   ]
  },
  {
   "cell_type": "code",
   "execution_count": 6,
   "id": "80c1b3c7-9031-4a0c-bec3-e7a626ec75db",
   "metadata": {},
   "outputs": [
    {
     "data": {
      "text/plain": [
       "'Your name is Yash. Got a problem with that?'"
      ]
     },
     "execution_count": 6,
     "metadata": {},
     "output_type": "execute_result"
    }
   ],
   "source": [
    "response.content"
   ]
  },
  {
   "cell_type": "markdown",
   "id": "ff78fddf-b683-47bf-bd37-a8292f71a80f",
   "metadata": {},
   "source": [
    "# LangChain Expression Language - LCEL\n",
    "\n",
    "Reference: https://python.langchain.com/docs/concepts/lcel/"
   ]
  },
  {
   "cell_type": "code",
   "execution_count": 7,
   "id": "0af23c07-7d85-43ac-878c-88e24a85de10",
   "metadata": {},
   "outputs": [],
   "source": [
    "chain = prompt | chat"
   ]
  },
  {
   "cell_type": "code",
   "execution_count": 8,
   "id": "52e9acc4-64f0-497f-8f40-7687ad2d8005",
   "metadata": {},
   "outputs": [],
   "source": [
    "response = chain.invoke({\n",
    "        \"messages\": [\n",
    "            HumanMessage(content=\"Hello my name is Yash\"),\n",
    "            AIMessage(content=\"hi\"),\n",
    "        ],\n",
    "    })"
   ]
  },
  {
   "cell_type": "code",
   "execution_count": 9,
   "id": "f212db02-c516-49e3-b276-799c7210ebe8",
   "metadata": {},
   "outputs": [
    {
     "data": {
      "text/plain": [
       "'Your name is Yash. Try to keep up!'"
      ]
     },
     "execution_count": 9,
     "metadata": {},
     "output_type": "execute_result"
    }
   ],
   "source": [
    "response.content"
   ]
  },
  {
   "cell_type": "code",
   "execution_count": 10,
   "id": "b59c6f2a-9c9e-4f87-851f-4825e77af796",
   "metadata": {},
   "outputs": [],
   "source": [
    "from langchain_core.output_parsers import StrOutputParser\n",
    "\n",
    "parser = StrOutputParser()"
   ]
  },
  {
   "cell_type": "code",
   "execution_count": 11,
   "id": "0eb14e31-d376-405e-8db9-1b4dd1385000",
   "metadata": {},
   "outputs": [],
   "source": [
    "chain = prompt | chat | parser"
   ]
  },
  {
   "cell_type": "code",
   "execution_count": 12,
   "id": "053a5016-c093-41b3-8f8d-5879a2ca365c",
   "metadata": {},
   "outputs": [],
   "source": [
    "response = chain.invoke({\n",
    "        \"messages\": [\n",
    "            HumanMessage(content=\"Hello my name is Yash\"),\n",
    "            AIMessage(content=\"hi\"),\n",
    "        ],\n",
    "    })"
   ]
  },
  {
   "cell_type": "code",
   "execution_count": 13,
   "id": "e27f5ec4-63d0-4cbb-9a3d-7c7a772f69b2",
   "metadata": {},
   "outputs": [
    {
     "data": {
      "text/plain": [
       "'Your name is Yash. Got a memory like a goldfish, do we?'"
      ]
     },
     "execution_count": 13,
     "metadata": {},
     "output_type": "execute_result"
    }
   ],
   "source": [
    "response"
   ]
  },
  {
   "cell_type": "code",
   "execution_count": null,
   "id": "012a0894-7d3f-4daa-a06f-59e56722a9e7",
   "metadata": {},
   "outputs": [],
   "source": []
  }
 ],
 "metadata": {
  "kernelspec": {
   "display_name": "Python 3 (ipykernel)",
   "language": "python",
   "name": "python3"
  },
  "language_info": {
   "codemirror_mode": {
    "name": "ipython",
    "version": 3
   },
   "file_extension": ".py",
   "mimetype": "text/x-python",
   "name": "python",
   "nbconvert_exporter": "python",
   "pygments_lexer": "ipython3",
   "version": "3.11.9"
  }
 },
 "nbformat": 4,
 "nbformat_minor": 5
}
